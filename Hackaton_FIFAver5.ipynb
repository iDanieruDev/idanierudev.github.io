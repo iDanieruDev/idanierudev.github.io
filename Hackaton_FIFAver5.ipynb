{
 "cells": [
  {
   "cell_type": "markdown",
   "id": "3a07883d",
   "metadata": {},
   "source": [
    "# Detrás del Marcador: Análisis de Cómo el Factor de Localía y el Ranking FIFA Impactan en las Victorias Futbolísticas"
   ]
  },
  {
   "cell_type": "markdown",
   "id": "d9b31714",
   "metadata": {},
   "source": [
    "**Tabla de contenidos**<a id='toc0_'></a>    \n",
    "1. [Introducción](#toc1_)    \n",
    "2. [Inicialización](#toc2_)    \n",
    "3. [Preprocesamiento de datos](#toc3_)    \n",
    "3.1. [Enriquecimiento de los datos](#toc3_1_)    \n",
    "3.2. [Descripción de los datos](#toc3_2_)    \n",
    "4. [Análisis exploratorio de datos](#toc4_)    \n",
    "4.1. [¿Existe tal cosa como la ventaja del equipo local?](#toc4_1_)    \n",
    "4.2. [¿Qué tan inesperado es que un equipo de bajo ranking gane a un equipo de alto ranking?](#toc4_2_)    \n",
    "5. [Modelos de predicción: ¿Es posible construir un mejor predictor para ganar un partido que el ranking FIFA?](#toc5_)    \n",
    "5.1. [Definimos la data para entrenar nuestros modelos](#toc5_1_)    \n",
    "5.2. [Evaluamos el modelo simple basado en el Ranking FIFA](#toc5_2_)    \n",
    "5.3. [Definimos el set de entrenamiento y de prueba](#toc5_3_)    \n",
    "5.4. [Entrenamos y evaluamos nuestro modelo de Regresión Logística Multinomial](#toc5_4_)    \n",
    "6. [Conclusiones](#toc6_)    \n",
    "7. [Próximos pasos](#toc7_)    \n",
    "8. [Apéndices](#toc8_)    \n",
    "8.1. [Apéndice A: Definiciones](#toc8_1_)    \n",
    "\n",
    "<!-- vscode-jupyter-toc-config\n",
    "\tnumbering=true\n",
    "\tanchor=true\n",
    "\tflat=true\n",
    "\tminLevel=2\n",
    "\tmaxLevel=6\n",
    "\t/vscode-jupyter-toc-config -->\n",
    "<!-- THIS CELL WILL BE REPLACED ON TOC UPDATE. DO NOT WRITE YOUR TEXT IN THIS CELL -->"
   ]
  },
  {
   "cell_type": "markdown",
   "id": "0f14ac0e",
   "metadata": {},
   "source": [
    "## 1. <a id='toc1_'></a>[Introducción](#toc0_)"
   ]
  },
  {
   "cell_type": "markdown",
   "id": "b306a88b",
   "metadata": {},
   "source": [
    "En el mundo del fúltbol, cada partido es un enfrentamiento único en el que equipos de distintas procedencias y calibres se desafían en busca de la victoria. Detrás de cada resultado hay una serie de factores que influyen en el desenlace, desde la destreza individual de los jugadores hasta las estrategias de juego adoptadas por los entrenadores. Entre estos factores, dos han capturado la atención de la comunidad futbolística y de los analistas de datos por igual: el factor de jugar como local y el posicionamiento en el ranking FIFA.\n",
    "\n",
    "\n",
    "El propósito de este proyecto es sumergirse en el análisis de datos para desentrañar la relación entre el desempeño de un equipo en el contexto de su localía y su posición en el ranking FIFA, y cómo estas variables impactan en su probabilidad de victoria. A lo largo de las décadas, se ha especulado ampliamente acerca de si el factor de jugar en casa y la clasificación en el ranking FIFA realmente afectan los resultados de los partidos. Este análisis busca aportar claridad a estas cuestiones, explorando cómo estos factores se entrelazan y contribuyen a las victorias en el deporte más popular del mundo.\n",
    "\n",
    "\n",
    "Para lograr este objetivo, se examinarán datos detallados de partidos internacionales de fútbol, abarcando un período que va desde 1993 hasta 2022. Estos datos proporcionan una ventana a una amplia variedad de escenarios y situaciones de juego a nivel global, permitiendo un análisis completo y en profundidad. Mediante la aplicación de técnicas estadísticas y herramientas de visualización, se pretende identificar patrones, tendencias y relaciones significativas entre el factor de jugar como local, la posición en el ranking FIFA y el resultado final del partido. Finalmente, se utilizará un modelo de regresión logística para predecir la probabilidad de victoria de un equipo en función de su posición en el ranking FIFA, su condición de local o visitante y otras variables."
   ]
  },
  {
   "cell_type": "markdown",
   "id": "b23aebd7",
   "metadata": {},
   "source": [
    "## 2. <a id='toc2_'></a>[Inicialización](#toc0_)"
   ]
  },
  {
   "cell_type": "code",
   "execution_count": 62,
   "id": "c34e1859",
   "metadata": {},
   "outputs": [],
   "source": [
    "# Cargamos todas las librerías\n",
    "import pandas as pd\n",
    "from IPython.display import display, HTML\n",
    "import matplotlib.pyplot as plt\n",
    "import seaborn as sns\n",
    "import math\n",
    "import plotly.graph_objs as go\n",
    "\n",
    "from sklearn.tree import DecisionTreeClassifier\n",
    "from sklearn.ensemble import RandomForestClassifier\n",
    "from sklearn.linear_model import LogisticRegression\n",
    "\n",
    "from sklearn.model_selection import train_test_split\n",
    "from sklearn.preprocessing import StandardScaler\n",
    "from sklearn.metrics import classification_report\n",
    "\n",
    "\n",
    "# Mostrar todas las filas y columnas\n",
    "pd.set_option('display.max_columns', None)  \n",
    "pd.set_option('display.max_rows', None)\n",
    "\n",
    "# ocultar warnings\n",
    "import warnings \n",
    "warnings.filterwarnings('ignore')\n"
   ]
  },
  {
   "cell_type": "code",
   "execution_count": 63,
   "id": "6f8d3be0",
   "metadata": {},
   "outputs": [],
   "source": [
    "# Cargamos el archivo de datos en un DataFrame\n",
    "try:\n",
    "    data=pd.read_csv('international_matches.csv')\n",
    "except:\n",
    "    data=pd.read_csv('hackaton/international_matches.csv')"
   ]
  },
  {
   "cell_type": "markdown",
   "id": "a13bdc3a",
   "metadata": {},
   "source": [
    "## 3. <a id='toc3_'></a>[Preprocesamiento de datos](#toc0_)"
   ]
  },
  {
   "cell_type": "code",
   "execution_count": 64,
   "id": "07e634f5",
   "metadata": {},
   "outputs": [
    {
     "name": "stdout",
     "output_type": "stream",
     "text": [
      "<class 'pandas.core.frame.DataFrame'>\n",
      "RangeIndex: 23921 entries, 0 to 23920\n",
      "Data columns (total 25 columns):\n",
      " #   Column                         Non-Null Count  Dtype  \n",
      "---  ------                         --------------  -----  \n",
      " 0   date                           23921 non-null  object \n",
      " 1   home_team                      23921 non-null  object \n",
      " 2   away_team                      23921 non-null  object \n",
      " 3   home_team_continent            23921 non-null  object \n",
      " 4   away_team_continent            23921 non-null  object \n",
      " 5   home_team_fifa_rank            23921 non-null  int64  \n",
      " 6   away_team_fifa_rank            23921 non-null  int64  \n",
      " 7   home_team_total_fifa_points    23921 non-null  int64  \n",
      " 8   away_team_total_fifa_points    23921 non-null  int64  \n",
      " 9   home_team_score                23921 non-null  int64  \n",
      " 10  away_team_score                23921 non-null  int64  \n",
      " 11  tournament                     23921 non-null  object \n",
      " 12  city                           23921 non-null  object \n",
      " 13  country                        23921 non-null  object \n",
      " 14  neutral_location               23921 non-null  bool   \n",
      " 15  shoot_out                      23921 non-null  object \n",
      " 16  home_team_result               23921 non-null  object \n",
      " 17  home_team_goalkeeper_score     8379 non-null   float64\n",
      " 18  away_team_goalkeeper_score     8095 non-null   float64\n",
      " 19  home_team_mean_defense_score   7787 non-null   float64\n",
      " 20  home_team_mean_offense_score   8510 non-null   float64\n",
      " 21  home_team_mean_midfield_score  8162 non-null   float64\n",
      " 22  away_team_mean_defense_score   7564 non-null   float64\n",
      " 23  away_team_mean_offense_score   8312 non-null   float64\n",
      " 24  away_team_mean_midfield_score  7979 non-null   float64\n",
      "dtypes: bool(1), float64(8), int64(6), object(10)\n",
      "memory usage: 4.4+ MB\n"
     ]
    }
   ],
   "source": [
    "# Información general del dataset\n",
    "data.info()"
   ]
  },
  {
   "cell_type": "code",
   "execution_count": 65,
   "id": "15c7f526",
   "metadata": {},
   "outputs": [
    {
     "data": {
      "text/html": [
       "<div>\n",
       "<style scoped>\n",
       "    .dataframe tbody tr th:only-of-type {\n",
       "        vertical-align: middle;\n",
       "    }\n",
       "\n",
       "    .dataframe tbody tr th {\n",
       "        vertical-align: top;\n",
       "    }\n",
       "\n",
       "    .dataframe thead th {\n",
       "        text-align: right;\n",
       "    }\n",
       "</style>\n",
       "<table border=\"1\" class=\"dataframe\">\n",
       "  <thead>\n",
       "    <tr style=\"text-align: right;\">\n",
       "      <th></th>\n",
       "      <th>date</th>\n",
       "      <th>home_team</th>\n",
       "      <th>away_team</th>\n",
       "      <th>home_team_continent</th>\n",
       "      <th>away_team_continent</th>\n",
       "      <th>home_team_fifa_rank</th>\n",
       "      <th>away_team_fifa_rank</th>\n",
       "      <th>home_team_total_fifa_points</th>\n",
       "      <th>away_team_total_fifa_points</th>\n",
       "      <th>home_team_score</th>\n",
       "      <th>away_team_score</th>\n",
       "      <th>tournament</th>\n",
       "      <th>city</th>\n",
       "      <th>country</th>\n",
       "      <th>neutral_location</th>\n",
       "      <th>shoot_out</th>\n",
       "      <th>home_team_result</th>\n",
       "      <th>home_team_goalkeeper_score</th>\n",
       "      <th>away_team_goalkeeper_score</th>\n",
       "      <th>home_team_mean_defense_score</th>\n",
       "      <th>home_team_mean_offense_score</th>\n",
       "      <th>home_team_mean_midfield_score</th>\n",
       "      <th>away_team_mean_defense_score</th>\n",
       "      <th>away_team_mean_offense_score</th>\n",
       "      <th>away_team_mean_midfield_score</th>\n",
       "    </tr>\n",
       "  </thead>\n",
       "  <tbody>\n",
       "    <tr>\n",
       "      <th>1413</th>\n",
       "      <td>1996-04-28</td>\n",
       "      <td>Suriname</td>\n",
       "      <td>Guyana</td>\n",
       "      <td>South America</td>\n",
       "      <td>South America</td>\n",
       "      <td>135</td>\n",
       "      <td>156</td>\n",
       "      <td>0</td>\n",
       "      <td>0</td>\n",
       "      <td>2</td>\n",
       "      <td>1</td>\n",
       "      <td>CFU Caribbean Cup qualification</td>\n",
       "      <td>Paramaribo</td>\n",
       "      <td>Suriname</td>\n",
       "      <td>False</td>\n",
       "      <td>No</td>\n",
       "      <td>Win</td>\n",
       "      <td>NaN</td>\n",
       "      <td>NaN</td>\n",
       "      <td>NaN</td>\n",
       "      <td>NaN</td>\n",
       "      <td>NaN</td>\n",
       "      <td>NaN</td>\n",
       "      <td>NaN</td>\n",
       "      <td>NaN</td>\n",
       "    </tr>\n",
       "    <tr>\n",
       "      <th>740</th>\n",
       "      <td>1995-03-10</td>\n",
       "      <td>India</td>\n",
       "      <td>Thailand</td>\n",
       "      <td>Asia</td>\n",
       "      <td>Asia</td>\n",
       "      <td>116</td>\n",
       "      <td>92</td>\n",
       "      <td>0</td>\n",
       "      <td>0</td>\n",
       "      <td>0</td>\n",
       "      <td>5</td>\n",
       "      <td>Nehru Cup</td>\n",
       "      <td>Calcutta</td>\n",
       "      <td>India</td>\n",
       "      <td>False</td>\n",
       "      <td>No</td>\n",
       "      <td>Lose</td>\n",
       "      <td>NaN</td>\n",
       "      <td>NaN</td>\n",
       "      <td>NaN</td>\n",
       "      <td>NaN</td>\n",
       "      <td>NaN</td>\n",
       "      <td>NaN</td>\n",
       "      <td>NaN</td>\n",
       "      <td>NaN</td>\n",
       "    </tr>\n",
       "    <tr>\n",
       "      <th>4253</th>\n",
       "      <td>2000-02-19</td>\n",
       "      <td>USA</td>\n",
       "      <td>Colombia</td>\n",
       "      <td>North America</td>\n",
       "      <td>South America</td>\n",
       "      <td>22</td>\n",
       "      <td>24</td>\n",
       "      <td>0</td>\n",
       "      <td>0</td>\n",
       "      <td>2</td>\n",
       "      <td>2</td>\n",
       "      <td>Gold Cup</td>\n",
       "      <td>Miami</td>\n",
       "      <td>USA</td>\n",
       "      <td>False</td>\n",
       "      <td>Yes</td>\n",
       "      <td>Lose</td>\n",
       "      <td>NaN</td>\n",
       "      <td>NaN</td>\n",
       "      <td>NaN</td>\n",
       "      <td>NaN</td>\n",
       "      <td>NaN</td>\n",
       "      <td>NaN</td>\n",
       "      <td>NaN</td>\n",
       "      <td>NaN</td>\n",
       "    </tr>\n",
       "    <tr>\n",
       "      <th>5884</th>\n",
       "      <td>2001-09-06</td>\n",
       "      <td>Bahrain</td>\n",
       "      <td>Thailand</td>\n",
       "      <td>Asia</td>\n",
       "      <td>Asia</td>\n",
       "      <td>117</td>\n",
       "      <td>62</td>\n",
       "      <td>0</td>\n",
       "      <td>0</td>\n",
       "      <td>1</td>\n",
       "      <td>1</td>\n",
       "      <td>FIFA World Cup qualification</td>\n",
       "      <td>Riffa</td>\n",
       "      <td>Bahrain</td>\n",
       "      <td>False</td>\n",
       "      <td>No</td>\n",
       "      <td>Draw</td>\n",
       "      <td>NaN</td>\n",
       "      <td>NaN</td>\n",
       "      <td>NaN</td>\n",
       "      <td>NaN</td>\n",
       "      <td>NaN</td>\n",
       "      <td>NaN</td>\n",
       "      <td>NaN</td>\n",
       "      <td>NaN</td>\n",
       "    </tr>\n",
       "    <tr>\n",
       "      <th>14828</th>\n",
       "      <td>2012-02-29</td>\n",
       "      <td>IR Iran</td>\n",
       "      <td>Qatar</td>\n",
       "      <td>Asia</td>\n",
       "      <td>Asia</td>\n",
       "      <td>47</td>\n",
       "      <td>96</td>\n",
       "      <td>605</td>\n",
       "      <td>372</td>\n",
       "      <td>2</td>\n",
       "      <td>2</td>\n",
       "      <td>FIFA World Cup qualification</td>\n",
       "      <td>Tehran</td>\n",
       "      <td>IR Iran</td>\n",
       "      <td>False</td>\n",
       "      <td>No</td>\n",
       "      <td>Draw</td>\n",
       "      <td>54.0</td>\n",
       "      <td>NaN</td>\n",
       "      <td>NaN</td>\n",
       "      <td>NaN</td>\n",
       "      <td>NaN</td>\n",
       "      <td>NaN</td>\n",
       "      <td>NaN</td>\n",
       "      <td>NaN</td>\n",
       "    </tr>\n",
       "  </tbody>\n",
       "</table>\n",
       "</div>"
      ],
      "text/plain": [
       "             date home_team away_team home_team_continent away_team_continent  \\\n",
       "1413   1996-04-28  Suriname    Guyana       South America       South America   \n",
       "740    1995-03-10     India  Thailand                Asia                Asia   \n",
       "4253   2000-02-19       USA  Colombia       North America       South America   \n",
       "5884   2001-09-06   Bahrain  Thailand                Asia                Asia   \n",
       "14828  2012-02-29   IR Iran     Qatar                Asia                Asia   \n",
       "\n",
       "       home_team_fifa_rank  away_team_fifa_rank  home_team_total_fifa_points  \\\n",
       "1413                   135                  156                            0   \n",
       "740                    116                   92                            0   \n",
       "4253                    22                   24                            0   \n",
       "5884                   117                   62                            0   \n",
       "14828                   47                   96                          605   \n",
       "\n",
       "       away_team_total_fifa_points  home_team_score  away_team_score  \\\n",
       "1413                             0                2                1   \n",
       "740                              0                0                5   \n",
       "4253                             0                2                2   \n",
       "5884                             0                1                1   \n",
       "14828                          372                2                2   \n",
       "\n",
       "                            tournament        city   country  \\\n",
       "1413   CFU Caribbean Cup qualification  Paramaribo  Suriname   \n",
       "740                          Nehru Cup    Calcutta     India   \n",
       "4253                          Gold Cup       Miami       USA   \n",
       "5884      FIFA World Cup qualification       Riffa   Bahrain   \n",
       "14828     FIFA World Cup qualification      Tehran   IR Iran   \n",
       "\n",
       "       neutral_location shoot_out home_team_result  \\\n",
       "1413              False        No              Win   \n",
       "740               False        No             Lose   \n",
       "4253              False       Yes             Lose   \n",
       "5884              False        No             Draw   \n",
       "14828             False        No             Draw   \n",
       "\n",
       "       home_team_goalkeeper_score  away_team_goalkeeper_score  \\\n",
       "1413                          NaN                         NaN   \n",
       "740                           NaN                         NaN   \n",
       "4253                          NaN                         NaN   \n",
       "5884                          NaN                         NaN   \n",
       "14828                        54.0                         NaN   \n",
       "\n",
       "       home_team_mean_defense_score  home_team_mean_offense_score  \\\n",
       "1413                            NaN                           NaN   \n",
       "740                             NaN                           NaN   \n",
       "4253                            NaN                           NaN   \n",
       "5884                            NaN                           NaN   \n",
       "14828                           NaN                           NaN   \n",
       "\n",
       "       home_team_mean_midfield_score  away_team_mean_defense_score  \\\n",
       "1413                             NaN                           NaN   \n",
       "740                              NaN                           NaN   \n",
       "4253                             NaN                           NaN   \n",
       "5884                             NaN                           NaN   \n",
       "14828                            NaN                           NaN   \n",
       "\n",
       "       away_team_mean_offense_score  away_team_mean_midfield_score  \n",
       "1413                            NaN                            NaN  \n",
       "740                             NaN                            NaN  \n",
       "4253                            NaN                            NaN  \n",
       "5884                            NaN                            NaN  \n",
       "14828                           NaN                            NaN  "
      ]
     },
     "execution_count": 65,
     "metadata": {},
     "output_type": "execute_result"
    }
   ],
   "source": [
    "# Muestra aleatoria de 5 filas\n",
    "data.sample(5)"
   ]
  },
  {
   "cell_type": "markdown",
   "id": "b46b98e7",
   "metadata": {},
   "source": [
    "Observamos un dataset que junta columnas con variables de tipo categórico y numérico. Se pueden realizar algunas transformaciones con el objeto de mejorar la calidad de los datos. Particularmente: \n",
    "- Tranformar la columna date a tipo datetime\n",
    "- Renombrar las columnas traduciendo al español\n",
    "- Eliminar columnas que no aportan información relevante para el análisis **----podemos hacer esto como idea, confirmar-----**\n",
    "- Crear nuevas columnas para aportar el análisis"
   ]
  },
  {
   "cell_type": "code",
   "execution_count": 66,
   "id": "6791c4cf",
   "metadata": {},
   "outputs": [],
   "source": [
    "# Transformación a tipo de dato datetime\n",
    "data['date'] = pd.to_datetime(data['date'], format='%Y-%m-%d')"
   ]
  },
  {
   "cell_type": "code",
   "execution_count": 67,
   "id": "2bb6f3dc",
   "metadata": {},
   "outputs": [],
   "source": [
    "# Renombre de columnas\n",
    "data = data.rename(columns={\n",
    "    'home_team':'equipo_A', \n",
    "    'away_team': 'equipo_B',\n",
    "    'home_team_continent': 'continente_A',\n",
    "    'away_team_continent': 'continente_B',\n",
    "    'home_team_fifa_rank': 'fifa_rank_A',\n",
    "    'away_team_fifa_rank': 'fifa_rank_B',\n",
    "    'home_team_total_fifa_points': 'fifa_points_A',\n",
    "    'away_team_total_fifa_points': 'fifa_points_B',\n",
    "    'home_team_score': 'goles_A',\n",
    "    'away_team_score': 'goles_B',\n",
    "    'tournament': 'torneo',\n",
    "    'city': 'ciudad',\n",
    "    'country': 'pais',\n",
    "    'neutral_location': 'locacion_neutral',\n",
    "    'shoot_out': 'alargue',\n",
    "    'home_team_result': 'resultado_A',\n",
    "    'home_team_goalkeeper_score': 'puntuacion_arquero_A',\n",
    "    'away_team_goalkeeper_score': 'puntuacion_arquero_B',\n",
    "    'home_team_mean_defense_score': 'puntuacion_defensa_A',\n",
    "    'home_team_mean_offense_score': 'puntuacion_ofensiva_A',\n",
    "    'home_team_mean_midfield_score': 'puntuacion_mediocampo_A',\n",
    "    'away_team_mean_defense_score': 'puntuacion_defensa_B',\n",
    "    'away_team_mean_offense_score': 'puntuacion_ofensiva_B',\n",
    "    'away_team_mean_midfield_score': 'puntuacion_mediocampo_B'    \n",
    "})"
   ]
  },
  {
   "cell_type": "code",
   "execution_count": 68,
   "id": "3080c5eb",
   "metadata": {},
   "outputs": [],
   "source": [
    "# Eliminación de columnas que no aportan información \n",
    "# Lista de columnas a eliminar \n",
    "columns_to_delete = ['puntuacion_arquero_A', 'puntuacion_arquero_B',\n",
    "       'puntuacion_defensa_A',\n",
    "       'puntuacion_ofensiva_A',\n",
    "       'puntuacion_mediocampo_A',\n",
    "       'puntuacion_defensa_B',\n",
    "       'puntuacion_ofensiva_B',\n",
    "       'puntuacion_mediocampo_B']\n",
    "# Eliminación de columnas del dataframe\n",
    "data = data.drop(columns = columns_to_delete)"
   ]
  },
  {
   "cell_type": "markdown",
   "id": "d4a1cc26",
   "metadata": {},
   "source": [
    "### 3.1. <a id='toc3_1_'></a>[Enriquecimiento de los datos](#toc0_)"
   ]
  },
  {
   "cell_type": "code",
   "execution_count": 69,
   "id": "7ad81576",
   "metadata": {},
   "outputs": [],
   "source": [
    "# Se crea una nueva columna que reemplace los valores de la columna resultado_equipo_local por valores numéricos\n",
    "reemplazos = {'Win': 1, 'Draw': 0, 'Lose': -1}\n",
    "data['resultado_A_num'] = data['resultado_A'].replace(reemplazos)\n",
    "data['resultado_A_num'] = data['resultado_A_num'].astype(int)\n",
    "\n",
    "# Se crea una nueva columna con la diferencia de fifa rank entre el equipo local y el equipo visita\n",
    "data['diferencia_fifa_rank']=data['fifa_rank_B']-data['fifa_rank_A']\n",
    "\n",
    "# función para asignar a la diferencia de fifa rank un valor dentro de una escala de multiplos de 50\n",
    "def rango_diferencia(diferencia):\n",
    "    if diferencia >=0:\n",
    "        return math.floor(diferencia / 50) * 50\n",
    "    else:\n",
    "        return math.ceil(diferencia / 50) * 50\n",
    "\n",
    "# Se crea una nueva columna aplicando la función rango_diferencia\n",
    "data['diferencia_fifa_rank_app'] = (data['fifa_rank_B']-data['fifa_rank_A']).apply(rango_diferencia)"
   ]
  },
  {
   "cell_type": "code",
   "execution_count": 70,
   "id": "2e14e930",
   "metadata": {},
   "outputs": [],
   "source": [
    "#Agregamos columna con el año para enriquecer los datos\n",
    "data['año'] = data['date'].dt.year"
   ]
  },
  {
   "cell_type": "markdown",
   "id": "628b3e87",
   "metadata": {},
   "source": [
    "### 3.2. <a id='toc3_2_'></a>[Descripción de los datos](#toc0_)"
   ]
  },
  {
   "cell_type": "markdown",
   "id": "4c6d2c16",
   "metadata": {},
   "source": [
    "Nuestro dataset queda de la siguiente manera:"
   ]
  },
  {
   "cell_type": "code",
   "execution_count": 71,
   "id": "55ac4950",
   "metadata": {},
   "outputs": [
    {
     "name": "stdout",
     "output_type": "stream",
     "text": [
      "<class 'pandas.core.frame.DataFrame'>\n",
      "RangeIndex: 23921 entries, 0 to 23920\n",
      "Data columns (total 21 columns):\n",
      " #   Column                    Non-Null Count  Dtype         \n",
      "---  ------                    --------------  -----         \n",
      " 0   date                      23921 non-null  datetime64[ns]\n",
      " 1   equipo_A                  23921 non-null  object        \n",
      " 2   equipo_B                  23921 non-null  object        \n",
      " 3   continente_A              23921 non-null  object        \n",
      " 4   continente_B              23921 non-null  object        \n",
      " 5   fifa_rank_A               23921 non-null  int64         \n",
      " 6   fifa_rank_B               23921 non-null  int64         \n",
      " 7   fifa_points_A             23921 non-null  int64         \n",
      " 8   fifa_points_B             23921 non-null  int64         \n",
      " 9   goles_A                   23921 non-null  int64         \n",
      " 10  goles_B                   23921 non-null  int64         \n",
      " 11  torneo                    23921 non-null  object        \n",
      " 12  ciudad                    23921 non-null  object        \n",
      " 13  pais                      23921 non-null  object        \n",
      " 14  locacion_neutral          23921 non-null  bool          \n",
      " 15  alargue                   23921 non-null  object        \n",
      " 16  resultado_A               23921 non-null  object        \n",
      " 17  resultado_A_num           23921 non-null  int32         \n",
      " 18  diferencia_fifa_rank      23921 non-null  int64         \n",
      " 19  diferencia_fifa_rank_app  23921 non-null  int64         \n",
      " 20  año                       23921 non-null  int64         \n",
      "dtypes: bool(1), datetime64[ns](1), int32(1), int64(9), object(9)\n",
      "memory usage: 3.6+ MB\n"
     ]
    }
   ],
   "source": [
    "data.info()"
   ]
  },
  {
   "cell_type": "markdown",
   "id": "08ee3fda",
   "metadata": {},
   "source": [
    "Donde:\n",
    "\n",
    "- `date`: Corresponde a la fecha del encuentro  \n",
    "- `equipo_A`: Nombre del equipo A  \n",
    "- `equipo_B`: Nombre del equipo B  \n",
    "- `continente_A`: Continente del equipo A  \n",
    "- `continente_B`: Contienente del equipo B  \n",
    "- `fifa_rank_A`: Clasificación FIFA del equipo A  \n",
    "- `fifa_rank_B`: Clasificación FIFA del equipo B  \n",
    "- `fifa_points_A`: Puntos acumulados del equipo A (sistema de clasificación de la FIFA)  \n",
    "- `fifa_points_B`: Puntos acumulados del equipo B (sistema de clasificación de la FIFA)  \n",
    "- `goles_A`: Goles realizados por el equipo A  \n",
    "- `goles_B`: Goles realizados por el equipo B  \n",
    "- `torneo`: A que torneo pertenece el encuentro  \n",
    "- `ciudad`: Ciudad donde se celebra el encuentro  \n",
    "- `locacion_neutral`: Variable booleana que indica si el encuentro es en el país de uno de los equipos o no  \n",
    "- `alargue`: Si hubo o no alargue  \n",
    "- `resultado_A`: Resultado equipo A (Win-Draw-Lose)  \n",
    "- `resultado_A_num`: Resultado numerico equipo A (1  0 -1)  \n",
    "- `diferencia_fifa_rank`: Diferencia de rankings (Ranking B-Ranking A)  \n",
    "- `diferencia_fifa_rank_app`: Diferencia de rankings en grupos de 50  \n",
    "- `año`: Año del encuentro  \n",
    "\n",
    "**Nota**: Si el enfretamiento es en el país de uno de los equipos, la variable `locacion_neutral` será False y el equipo A corresponderá al equipo que juega de local"
   ]
  },
  {
   "cell_type": "markdown",
   "id": "3b664135",
   "metadata": {},
   "source": [
    "Obtenemos al final un dataset sin valores ausentes y con la información que necesitamos para el análisis."
   ]
  },
  {
   "cell_type": "markdown",
   "id": "2466ed1b",
   "metadata": {},
   "source": [
    "## 4. <a id='toc4_'></a>[Análisis exploratorio de datos](#toc0_)"
   ]
  },
  {
   "cell_type": "code",
   "execution_count": 72,
   "id": "0ec167d4",
   "metadata": {},
   "outputs": [
    {
     "data": {
      "text/html": [
       "<div>\n",
       "<style scoped>\n",
       "    .dataframe tbody tr th:only-of-type {\n",
       "        vertical-align: middle;\n",
       "    }\n",
       "\n",
       "    .dataframe tbody tr th {\n",
       "        vertical-align: top;\n",
       "    }\n",
       "\n",
       "    .dataframe thead th {\n",
       "        text-align: right;\n",
       "    }\n",
       "</style>\n",
       "<table border=\"1\" class=\"dataframe\">\n",
       "  <thead>\n",
       "    <tr style=\"text-align: right;\">\n",
       "      <th></th>\n",
       "      <th>fifa_rank_A</th>\n",
       "      <th>fifa_rank_B</th>\n",
       "      <th>fifa_points_A</th>\n",
       "      <th>fifa_points_B</th>\n",
       "      <th>goles_A</th>\n",
       "      <th>goles_B</th>\n",
       "      <th>resultado_A_num</th>\n",
       "      <th>diferencia_fifa_rank</th>\n",
       "      <th>diferencia_fifa_rank_app</th>\n",
       "      <th>año</th>\n",
       "    </tr>\n",
       "  </thead>\n",
       "  <tbody>\n",
       "    <tr>\n",
       "      <th>count</th>\n",
       "      <td>23921.00</td>\n",
       "      <td>23921.00</td>\n",
       "      <td>23921.00</td>\n",
       "      <td>23921.00</td>\n",
       "      <td>23921.00</td>\n",
       "      <td>23921.00</td>\n",
       "      <td>23921.00</td>\n",
       "      <td>23921.00</td>\n",
       "      <td>23921.00</td>\n",
       "      <td>23921.00</td>\n",
       "    </tr>\n",
       "    <tr>\n",
       "      <th>mean</th>\n",
       "      <td>77.85</td>\n",
       "      <td>80.80</td>\n",
       "      <td>323.40</td>\n",
       "      <td>315.45</td>\n",
       "      <td>1.61</td>\n",
       "      <td>1.07</td>\n",
       "      <td>0.21</td>\n",
       "      <td>2.94</td>\n",
       "      <td>1.57</td>\n",
       "      <td>2008.28</td>\n",
       "    </tr>\n",
       "    <tr>\n",
       "      <th>std</th>\n",
       "      <td>52.36</td>\n",
       "      <td>53.23</td>\n",
       "      <td>500.83</td>\n",
       "      <td>490.94</td>\n",
       "      <td>1.63</td>\n",
       "      <td>1.26</td>\n",
       "      <td>0.86</td>\n",
       "      <td>52.98</td>\n",
       "      <td>38.03</td>\n",
       "      <td>8.03</td>\n",
       "    </tr>\n",
       "    <tr>\n",
       "      <th>min</th>\n",
       "      <td>1.00</td>\n",
       "      <td>1.00</td>\n",
       "      <td>0.00</td>\n",
       "      <td>0.00</td>\n",
       "      <td>0.00</td>\n",
       "      <td>0.00</td>\n",
       "      <td>-1.00</td>\n",
       "      <td>-210.00</td>\n",
       "      <td>-200.00</td>\n",
       "      <td>1993.00</td>\n",
       "    </tr>\n",
       "    <tr>\n",
       "      <th>25%</th>\n",
       "      <td>33.00</td>\n",
       "      <td>36.00</td>\n",
       "      <td>0.00</td>\n",
       "      <td>0.00</td>\n",
       "      <td>0.00</td>\n",
       "      <td>0.00</td>\n",
       "      <td>-1.00</td>\n",
       "      <td>-29.00</td>\n",
       "      <td>0.00</td>\n",
       "      <td>2001.00</td>\n",
       "    </tr>\n",
       "    <tr>\n",
       "      <th>50%</th>\n",
       "      <td>71.00</td>\n",
       "      <td>73.00</td>\n",
       "      <td>0.00</td>\n",
       "      <td>0.00</td>\n",
       "      <td>1.00</td>\n",
       "      <td>1.00</td>\n",
       "      <td>0.00</td>\n",
       "      <td>4.00</td>\n",
       "      <td>0.00</td>\n",
       "      <td>2008.00</td>\n",
       "    </tr>\n",
       "    <tr>\n",
       "      <th>75%</th>\n",
       "      <td>115.00</td>\n",
       "      <td>119.00</td>\n",
       "      <td>547.00</td>\n",
       "      <td>523.00</td>\n",
       "      <td>2.00</td>\n",
       "      <td>2.00</td>\n",
       "      <td>1.00</td>\n",
       "      <td>35.00</td>\n",
       "      <td>0.00</td>\n",
       "      <td>2015.00</td>\n",
       "    </tr>\n",
       "    <tr>\n",
       "      <th>max</th>\n",
       "      <td>211.00</td>\n",
       "      <td>211.00</td>\n",
       "      <td>2164.00</td>\n",
       "      <td>2164.00</td>\n",
       "      <td>31.00</td>\n",
       "      <td>21.00</td>\n",
       "      <td>1.00</td>\n",
       "      <td>209.00</td>\n",
       "      <td>200.00</td>\n",
       "      <td>2022.00</td>\n",
       "    </tr>\n",
       "  </tbody>\n",
       "</table>\n",
       "</div>"
      ],
      "text/plain": [
       "       fifa_rank_A  fifa_rank_B  fifa_points_A  fifa_points_B   goles_A  \\\n",
       "count     23921.00     23921.00       23921.00       23921.00  23921.00   \n",
       "mean         77.85        80.80         323.40         315.45      1.61   \n",
       "std          52.36        53.23         500.83         490.94      1.63   \n",
       "min           1.00         1.00           0.00           0.00      0.00   \n",
       "25%          33.00        36.00           0.00           0.00      0.00   \n",
       "50%          71.00        73.00           0.00           0.00      1.00   \n",
       "75%         115.00       119.00         547.00         523.00      2.00   \n",
       "max         211.00       211.00        2164.00        2164.00     31.00   \n",
       "\n",
       "        goles_B  resultado_A_num  diferencia_fifa_rank  \\\n",
       "count  23921.00         23921.00              23921.00   \n",
       "mean       1.07             0.21                  2.94   \n",
       "std        1.26             0.86                 52.98   \n",
       "min        0.00            -1.00               -210.00   \n",
       "25%        0.00            -1.00                -29.00   \n",
       "50%        1.00             0.00                  4.00   \n",
       "75%        2.00             1.00                 35.00   \n",
       "max       21.00             1.00                209.00   \n",
       "\n",
       "       diferencia_fifa_rank_app       año  \n",
       "count                  23921.00  23921.00  \n",
       "mean                       1.57   2008.28  \n",
       "std                       38.03      8.03  \n",
       "min                     -200.00   1993.00  \n",
       "25%                        0.00   2001.00  \n",
       "50%                        0.00   2008.00  \n",
       "75%                        0.00   2015.00  \n",
       "max                      200.00   2022.00  "
      ]
     },
     "execution_count": 72,
     "metadata": {},
     "output_type": "execute_result"
    }
   ],
   "source": [
    "# Estadística descriptiva de los datos\n",
    "descriptive_statistics = data.describe().round(2)\n",
    "descriptive_statistics"
   ]
  },
  {
   "cell_type": "markdown",
   "id": "377fcd2c",
   "metadata": {},
   "source": [
    "Observamos que: \n",
    "- El ranking Fifa lo conforman 211 equipos nacionales. Se conoce por definición que la posición 1 es la mejor y la 211 la peor.\n",
    "- Los Fifa points son los puntos acumulados que un equipo ha ganado en el sistema de clasificación de la FIFA. La distribución de esta variable está sesgada a la derecha, lo que se deduce por tener una media mayor a la mediana. Esto indica la presencia de valores extremadamente altos en esta columna.\n",
    "- El promedio de goles de los partidos es de 1.6 para los equipos locales y 1.1 para los equipos visitantes, con una desviación estándar de 1.6 y 1.3 respectivamente y un percentil 75 de 2 goles para ambos casos, lo que indica una variabilidad reducida.\n",
    "- Curiosamente, se han llegado a anotar hasta 31 goles en un partido."
   ]
  },
  {
   "cell_type": "markdown",
   "id": "79dd0565",
   "metadata": {},
   "source": [
    "### 4.1. <a id='toc4_1_'></a>[¿Existe tal cosa como la ventaja del equipo local?](#toc0_)"
   ]
  },
  {
   "cell_type": "markdown",
   "id": "c9eb9320",
   "metadata": {},
   "source": [
    "Hay una creencia de que los equipos cuando juegan de local tienen una ventaja con respecto al equipo de visita. Vamos a indagar en este fenómeno analizando la información que disponemos. Para esto, compararemos el ratio de victorias históricas de los equipos locales (Equipo A) en enfrentamientos jugados en locaciones no neutrales y los compararemos con los enfrentamientos jugados en locaciones neutrales. Para esto, usaremos la columna `locacion_neutral`."
   ]
  },
  {
   "cell_type": "code",
   "execution_count": 73,
   "id": "db75bcc0",
   "metadata": {},
   "outputs": [
    {
     "data": {
      "text/html": [
       "<div>\n",
       "<style scoped>\n",
       "    .dataframe tbody tr th:only-of-type {\n",
       "        vertical-align: middle;\n",
       "    }\n",
       "\n",
       "    .dataframe tbody tr th {\n",
       "        vertical-align: top;\n",
       "    }\n",
       "\n",
       "    .dataframe thead th {\n",
       "        text-align: right;\n",
       "    }\n",
       "</style>\n",
       "<table border=\"1\" class=\"dataframe\">\n",
       "  <thead>\n",
       "    <tr style=\"text-align: right;\">\n",
       "      <th>locacion_neutral</th>\n",
       "      <th>False</th>\n",
       "      <th>True</th>\n",
       "    </tr>\n",
       "    <tr>\n",
       "      <th>ganador</th>\n",
       "      <th></th>\n",
       "      <th></th>\n",
       "    </tr>\n",
       "  </thead>\n",
       "  <tbody>\n",
       "    <tr>\n",
       "      <th>Empate</th>\n",
       "      <td>4110</td>\n",
       "      <td>1279</td>\n",
       "    </tr>\n",
       "    <tr>\n",
       "      <th>Gana Equipo A</th>\n",
       "      <td>9162</td>\n",
       "      <td>2599</td>\n",
       "    </tr>\n",
       "    <tr>\n",
       "      <th>Gana Equipo B</th>\n",
       "      <td>4675</td>\n",
       "      <td>2096</td>\n",
       "    </tr>\n",
       "  </tbody>\n",
       "</table>\n",
       "</div>"
      ],
      "text/plain": [
       "locacion_neutral  False  True \n",
       "ganador                       \n",
       "Empate             4110   1279\n",
       "Gana Equipo A      9162   2599\n",
       "Gana Equipo B      4675   2096"
      ]
     },
     "execution_count": 73,
     "metadata": {},
     "output_type": "execute_result"
    }
   ],
   "source": [
    "reemplazos = {'Win': 'Gana Equipo A', 'Draw': 'Empate', 'Lose': 'Gana Equipo B'}\n",
    "data['ganador'] = data['resultado_A'].replace(reemplazos)\n",
    "ganadas_local = data.pivot_table(index='ganador',columns='locacion_neutral', values='equipo_A',aggfunc='count')\n",
    "ganadas_local"
   ]
  },
  {
   "cell_type": "code",
   "execution_count": 74,
   "id": "b72baa56",
   "metadata": {},
   "outputs": [
    {
     "data": {
      "application/vnd.plotly.v1+json": {
       "config": {
        "plotlyServerURL": "https://plot.ly"
       },
       "data": [
        {
         "domain": {
          "x": [
           0,
           1
          ],
          "y": [
           0,
           1
          ]
         },
         "hovertemplate": "ganador=%{label}<br>True=%{value}<extra></extra>",
         "labels": [
          "Empate",
          "Gana Equipo A",
          "Gana Equipo B"
         ],
         "legendgroup": "",
         "name": "",
         "showlegend": true,
         "type": "pie",
         "values": [
          1279,
          2599,
          2096
         ]
        },
        {
         "domain": {
          "x": [
           0,
           1
          ],
          "y": [
           0,
           1
          ]
         },
         "hovertemplate": "ganador=%{label}<br>False=%{value}<extra></extra>",
         "labels": [
          "Empate",
          "Gana Equipo A",
          "Gana Equipo B"
         ],
         "legendgroup": "",
         "name": "",
         "showlegend": true,
         "type": "pie",
         "values": [
          4110,
          9162,
          4675
         ]
        }
       ],
       "layout": {
        "template": {
         "data": {
          "bar": [
           {
            "error_x": {
             "color": "#2a3f5f"
            },
            "error_y": {
             "color": "#2a3f5f"
            },
            "marker": {
             "line": {
              "color": "#E5ECF6",
              "width": 0.5
             },
             "pattern": {
              "fillmode": "overlay",
              "size": 10,
              "solidity": 0.2
             }
            },
            "type": "bar"
           }
          ],
          "barpolar": [
           {
            "marker": {
             "line": {
              "color": "#E5ECF6",
              "width": 0.5
             },
             "pattern": {
              "fillmode": "overlay",
              "size": 10,
              "solidity": 0.2
             }
            },
            "type": "barpolar"
           }
          ],
          "carpet": [
           {
            "aaxis": {
             "endlinecolor": "#2a3f5f",
             "gridcolor": "white",
             "linecolor": "white",
             "minorgridcolor": "white",
             "startlinecolor": "#2a3f5f"
            },
            "baxis": {
             "endlinecolor": "#2a3f5f",
             "gridcolor": "white",
             "linecolor": "white",
             "minorgridcolor": "white",
             "startlinecolor": "#2a3f5f"
            },
            "type": "carpet"
           }
          ],
          "choropleth": [
           {
            "colorbar": {
             "outlinewidth": 0,
             "ticks": ""
            },
            "type": "choropleth"
           }
          ],
          "contour": [
           {
            "colorbar": {
             "outlinewidth": 0,
             "ticks": ""
            },
            "colorscale": [
             [
              0,
              "#0d0887"
             ],
             [
              0.1111111111111111,
              "#46039f"
             ],
             [
              0.2222222222222222,
              "#7201a8"
             ],
             [
              0.3333333333333333,
              "#9c179e"
             ],
             [
              0.4444444444444444,
              "#bd3786"
             ],
             [
              0.5555555555555556,
              "#d8576b"
             ],
             [
              0.6666666666666666,
              "#ed7953"
             ],
             [
              0.7777777777777778,
              "#fb9f3a"
             ],
             [
              0.8888888888888888,
              "#fdca26"
             ],
             [
              1,
              "#f0f921"
             ]
            ],
            "type": "contour"
           }
          ],
          "contourcarpet": [
           {
            "colorbar": {
             "outlinewidth": 0,
             "ticks": ""
            },
            "type": "contourcarpet"
           }
          ],
          "heatmap": [
           {
            "colorbar": {
             "outlinewidth": 0,
             "ticks": ""
            },
            "colorscale": [
             [
              0,
              "#0d0887"
             ],
             [
              0.1111111111111111,
              "#46039f"
             ],
             [
              0.2222222222222222,
              "#7201a8"
             ],
             [
              0.3333333333333333,
              "#9c179e"
             ],
             [
              0.4444444444444444,
              "#bd3786"
             ],
             [
              0.5555555555555556,
              "#d8576b"
             ],
             [
              0.6666666666666666,
              "#ed7953"
             ],
             [
              0.7777777777777778,
              "#fb9f3a"
             ],
             [
              0.8888888888888888,
              "#fdca26"
             ],
             [
              1,
              "#f0f921"
             ]
            ],
            "type": "heatmap"
           }
          ],
          "heatmapgl": [
           {
            "colorbar": {
             "outlinewidth": 0,
             "ticks": ""
            },
            "colorscale": [
             [
              0,
              "#0d0887"
             ],
             [
              0.1111111111111111,
              "#46039f"
             ],
             [
              0.2222222222222222,
              "#7201a8"
             ],
             [
              0.3333333333333333,
              "#9c179e"
             ],
             [
              0.4444444444444444,
              "#bd3786"
             ],
             [
              0.5555555555555556,
              "#d8576b"
             ],
             [
              0.6666666666666666,
              "#ed7953"
             ],
             [
              0.7777777777777778,
              "#fb9f3a"
             ],
             [
              0.8888888888888888,
              "#fdca26"
             ],
             [
              1,
              "#f0f921"
             ]
            ],
            "type": "heatmapgl"
           }
          ],
          "histogram": [
           {
            "marker": {
             "pattern": {
              "fillmode": "overlay",
              "size": 10,
              "solidity": 0.2
             }
            },
            "type": "histogram"
           }
          ],
          "histogram2d": [
           {
            "colorbar": {
             "outlinewidth": 0,
             "ticks": ""
            },
            "colorscale": [
             [
              0,
              "#0d0887"
             ],
             [
              0.1111111111111111,
              "#46039f"
             ],
             [
              0.2222222222222222,
              "#7201a8"
             ],
             [
              0.3333333333333333,
              "#9c179e"
             ],
             [
              0.4444444444444444,
              "#bd3786"
             ],
             [
              0.5555555555555556,
              "#d8576b"
             ],
             [
              0.6666666666666666,
              "#ed7953"
             ],
             [
              0.7777777777777778,
              "#fb9f3a"
             ],
             [
              0.8888888888888888,
              "#fdca26"
             ],
             [
              1,
              "#f0f921"
             ]
            ],
            "type": "histogram2d"
           }
          ],
          "histogram2dcontour": [
           {
            "colorbar": {
             "outlinewidth": 0,
             "ticks": ""
            },
            "colorscale": [
             [
              0,
              "#0d0887"
             ],
             [
              0.1111111111111111,
              "#46039f"
             ],
             [
              0.2222222222222222,
              "#7201a8"
             ],
             [
              0.3333333333333333,
              "#9c179e"
             ],
             [
              0.4444444444444444,
              "#bd3786"
             ],
             [
              0.5555555555555556,
              "#d8576b"
             ],
             [
              0.6666666666666666,
              "#ed7953"
             ],
             [
              0.7777777777777778,
              "#fb9f3a"
             ],
             [
              0.8888888888888888,
              "#fdca26"
             ],
             [
              1,
              "#f0f921"
             ]
            ],
            "type": "histogram2dcontour"
           }
          ],
          "mesh3d": [
           {
            "colorbar": {
             "outlinewidth": 0,
             "ticks": ""
            },
            "type": "mesh3d"
           }
          ],
          "parcoords": [
           {
            "line": {
             "colorbar": {
              "outlinewidth": 0,
              "ticks": ""
             }
            },
            "type": "parcoords"
           }
          ],
          "pie": [
           {
            "automargin": true,
            "type": "pie"
           }
          ],
          "scatter": [
           {
            "fillpattern": {
             "fillmode": "overlay",
             "size": 10,
             "solidity": 0.2
            },
            "type": "scatter"
           }
          ],
          "scatter3d": [
           {
            "line": {
             "colorbar": {
              "outlinewidth": 0,
              "ticks": ""
             }
            },
            "marker": {
             "colorbar": {
              "outlinewidth": 0,
              "ticks": ""
             }
            },
            "type": "scatter3d"
           }
          ],
          "scattercarpet": [
           {
            "marker": {
             "colorbar": {
              "outlinewidth": 0,
              "ticks": ""
             }
            },
            "type": "scattercarpet"
           }
          ],
          "scattergeo": [
           {
            "marker": {
             "colorbar": {
              "outlinewidth": 0,
              "ticks": ""
             }
            },
            "type": "scattergeo"
           }
          ],
          "scattergl": [
           {
            "marker": {
             "colorbar": {
              "outlinewidth": 0,
              "ticks": ""
             }
            },
            "type": "scattergl"
           }
          ],
          "scattermapbox": [
           {
            "marker": {
             "colorbar": {
              "outlinewidth": 0,
              "ticks": ""
             }
            },
            "type": "scattermapbox"
           }
          ],
          "scatterpolar": [
           {
            "marker": {
             "colorbar": {
              "outlinewidth": 0,
              "ticks": ""
             }
            },
            "type": "scatterpolar"
           }
          ],
          "scatterpolargl": [
           {
            "marker": {
             "colorbar": {
              "outlinewidth": 0,
              "ticks": ""
             }
            },
            "type": "scatterpolargl"
           }
          ],
          "scatterternary": [
           {
            "marker": {
             "colorbar": {
              "outlinewidth": 0,
              "ticks": ""
             }
            },
            "type": "scatterternary"
           }
          ],
          "surface": [
           {
            "colorbar": {
             "outlinewidth": 0,
             "ticks": ""
            },
            "colorscale": [
             [
              0,
              "#0d0887"
             ],
             [
              0.1111111111111111,
              "#46039f"
             ],
             [
              0.2222222222222222,
              "#7201a8"
             ],
             [
              0.3333333333333333,
              "#9c179e"
             ],
             [
              0.4444444444444444,
              "#bd3786"
             ],
             [
              0.5555555555555556,
              "#d8576b"
             ],
             [
              0.6666666666666666,
              "#ed7953"
             ],
             [
              0.7777777777777778,
              "#fb9f3a"
             ],
             [
              0.8888888888888888,
              "#fdca26"
             ],
             [
              1,
              "#f0f921"
             ]
            ],
            "type": "surface"
           }
          ],
          "table": [
           {
            "cells": {
             "fill": {
              "color": "#EBF0F8"
             },
             "line": {
              "color": "white"
             }
            },
            "header": {
             "fill": {
              "color": "#C8D4E3"
             },
             "line": {
              "color": "white"
             }
            },
            "type": "table"
           }
          ]
         },
         "layout": {
          "annotationdefaults": {
           "arrowcolor": "#2a3f5f",
           "arrowhead": 0,
           "arrowwidth": 1
          },
          "autotypenumbers": "strict",
          "coloraxis": {
           "colorbar": {
            "outlinewidth": 0,
            "ticks": ""
           }
          },
          "colorscale": {
           "diverging": [
            [
             0,
             "#8e0152"
            ],
            [
             0.1,
             "#c51b7d"
            ],
            [
             0.2,
             "#de77ae"
            ],
            [
             0.3,
             "#f1b6da"
            ],
            [
             0.4,
             "#fde0ef"
            ],
            [
             0.5,
             "#f7f7f7"
            ],
            [
             0.6,
             "#e6f5d0"
            ],
            [
             0.7,
             "#b8e186"
            ],
            [
             0.8,
             "#7fbc41"
            ],
            [
             0.9,
             "#4d9221"
            ],
            [
             1,
             "#276419"
            ]
           ],
           "sequential": [
            [
             0,
             "#0d0887"
            ],
            [
             0.1111111111111111,
             "#46039f"
            ],
            [
             0.2222222222222222,
             "#7201a8"
            ],
            [
             0.3333333333333333,
             "#9c179e"
            ],
            [
             0.4444444444444444,
             "#bd3786"
            ],
            [
             0.5555555555555556,
             "#d8576b"
            ],
            [
             0.6666666666666666,
             "#ed7953"
            ],
            [
             0.7777777777777778,
             "#fb9f3a"
            ],
            [
             0.8888888888888888,
             "#fdca26"
            ],
            [
             1,
             "#f0f921"
            ]
           ],
           "sequentialminus": [
            [
             0,
             "#0d0887"
            ],
            [
             0.1111111111111111,
             "#46039f"
            ],
            [
             0.2222222222222222,
             "#7201a8"
            ],
            [
             0.3333333333333333,
             "#9c179e"
            ],
            [
             0.4444444444444444,
             "#bd3786"
            ],
            [
             0.5555555555555556,
             "#d8576b"
            ],
            [
             0.6666666666666666,
             "#ed7953"
            ],
            [
             0.7777777777777778,
             "#fb9f3a"
            ],
            [
             0.8888888888888888,
             "#fdca26"
            ],
            [
             1,
             "#f0f921"
            ]
           ]
          },
          "colorway": [
           "#636efa",
           "#EF553B",
           "#00cc96",
           "#ab63fa",
           "#FFA15A",
           "#19d3f3",
           "#FF6692",
           "#B6E880",
           "#FF97FF",
           "#FECB52"
          ],
          "font": {
           "color": "#2a3f5f"
          },
          "geo": {
           "bgcolor": "white",
           "lakecolor": "white",
           "landcolor": "#E5ECF6",
           "showlakes": true,
           "showland": true,
           "subunitcolor": "white"
          },
          "hoverlabel": {
           "align": "left"
          },
          "hovermode": "closest",
          "mapbox": {
           "style": "light"
          },
          "paper_bgcolor": "white",
          "plot_bgcolor": "#E5ECF6",
          "polar": {
           "angularaxis": {
            "gridcolor": "white",
            "linecolor": "white",
            "ticks": ""
           },
           "bgcolor": "#E5ECF6",
           "radialaxis": {
            "gridcolor": "white",
            "linecolor": "white",
            "ticks": ""
           }
          },
          "scene": {
           "xaxis": {
            "backgroundcolor": "#E5ECF6",
            "gridcolor": "white",
            "gridwidth": 2,
            "linecolor": "white",
            "showbackground": true,
            "ticks": "",
            "zerolinecolor": "white"
           },
           "yaxis": {
            "backgroundcolor": "#E5ECF6",
            "gridcolor": "white",
            "gridwidth": 2,
            "linecolor": "white",
            "showbackground": true,
            "ticks": "",
            "zerolinecolor": "white"
           },
           "zaxis": {
            "backgroundcolor": "#E5ECF6",
            "gridcolor": "white",
            "gridwidth": 2,
            "linecolor": "white",
            "showbackground": true,
            "ticks": "",
            "zerolinecolor": "white"
           }
          },
          "shapedefaults": {
           "line": {
            "color": "#2a3f5f"
           }
          },
          "ternary": {
           "aaxis": {
            "gridcolor": "white",
            "linecolor": "white",
            "ticks": ""
           },
           "baxis": {
            "gridcolor": "white",
            "linecolor": "white",
            "ticks": ""
           },
           "bgcolor": "#E5ECF6",
           "caxis": {
            "gridcolor": "white",
            "linecolor": "white",
            "ticks": ""
           }
          },
          "title": {
           "x": 0.05
          },
          "xaxis": {
           "automargin": true,
           "gridcolor": "white",
           "linecolor": "white",
           "ticks": "",
           "title": {
            "standoff": 15
           },
           "zerolinecolor": "white",
           "zerolinewidth": 2
          },
          "yaxis": {
           "automargin": true,
           "gridcolor": "white",
           "linecolor": "white",
           "ticks": "",
           "title": {
            "standoff": 15
           },
           "zerolinecolor": "white",
           "zerolinewidth": 2
          }
         }
        },
        "title": {
         "text": "<b>Distribución de resultados según tipo de ubicación</b>",
         "x": 0.5,
         "xanchor": "center"
        },
        "updatemenus": [
         {
          "active": 1,
          "buttons": [
           {
            "args": [
             {
              "visible": [
               true,
               false
              ]
             },
             {
              "title": "Ubicación neutral: Si"
             }
            ],
            "label": "Ubicación neutral: Si",
            "method": "update"
           },
           {
            "args": [
             {
              "visible": [
               false,
               true
              ]
             },
             {
              "title": "Ubicación neutral: No"
             }
            ],
            "label": "Ubicación neutral: No",
            "method": "update"
           }
          ],
          "direction": "down",
          "type": "buttons",
          "x": 0.1,
          "y": 1.12
         }
        ]
       }
      }
     },
     "metadata": {},
     "output_type": "display_data"
    }
   ],
   "source": [
    "import pandas as pd\n",
    "import plotly.express as px\n",
    "import plotly.graph_objects as go\n",
    "\n",
    "\n",
    "fig1 = px.pie(ganadas_local, values=True, names=ganadas_local.index, title='Ubicación neutral: Si')\n",
    "fig2 = px.pie(ganadas_local, values=False, names=ganadas_local.index, title='Ubicación neutral: No')\n",
    "\n",
    "fig = go.Figure()\n",
    "\n",
    "# Agregar las pestañas y gráficos correspondientes\n",
    "\n",
    "#fig.add_trace(go.Scatter(visible=False))\n",
    "fig.add_trace(fig1.data[0])\n",
    "fig.add_trace(fig2.data[0])\n",
    "\n",
    "# Configurar botones de pestañas\n",
    "button_layer_1_height = 1.12\n",
    "fig.update_layout(\n",
    "    title={'text': '<b>Distribución de resultados según tipo de ubicación</b>', 'x': 0.5, 'xanchor': 'center'},\n",
    "    updatemenus=[\n",
    "        dict(\n",
    "            type=\"buttons\",\n",
    "            direction=\"down\",\n",
    "            x=0.1,\n",
    "            y=button_layer_1_height,\n",
    "            buttons=list([\n",
    "                dict(label=\"Ubicación neutral: Si\",\n",
    "                     method=\"update\",\n",
    "                     args=[{\"visible\": [True, False]},\n",
    "                           {\"title\": \"Ubicación neutral: Si\"}]),\n",
    "                dict(label=\"Ubicación neutral: No\",\n",
    "                     method=\"update\",\n",
    "                     args=[{\"visible\": [False, True]},\n",
    "                           {\"title\": \"Ubicación neutral: No\"}]),\n",
    "            ]),\n",
    "            active=1,\n",
    "        )\n",
    "    ])\n",
    "\n",
    "# Mostrar la figura\n",
    "fig.show()\n",
    "graph_json = fig.to_json()\n",
    "#print(graph_json)"
   ]
  },
  {
   "cell_type": "markdown",
   "id": "4f7e000e",
   "metadata": {},
   "source": [
    "Como es de esperar, los equipos al jugar de local históricamente acumulan una mayor cantidad de victorias en relación a los resultados de empate y derrota. Este ratio es mayor que las victorias en partidos de locación neutral. Este resultado sugiere que jugar de local mejora la probabilidad de victoria de un equipo mientras que reduce su probabilidad de empate o derrota."
   ]
  },
  {
   "cell_type": "markdown",
   "id": "ca9c19a9",
   "metadata": {},
   "source": [
    "### 4.2. <a id='toc4_2_'></a>[¿Qué tan inesperado es que un equipo de bajo ranking gane a un equipo de alto ranking?](#toc0_)"
   ]
  },
  {
   "cell_type": "markdown",
   "id": "ed8a2da7",
   "metadata": {},
   "source": [
    "A continuacion se intentará cuantificar cuál es la probabilidad de que un equipo de bajo ranking FIFA sea capaz de ganarle a un equipo de alto ranking FIFA. Para esto utilizaremos la columna `diferencia_fifa_rank_app` la cual registra rangos de ventajas (o desventajas) **visto desde la perspectiva del equipo A**."
   ]
  },
  {
   "cell_type": "markdown",
   "id": "6d8fe1c4",
   "metadata": {},
   "source": [
    "- Comprobamos en primer lugar cómo se encuentra distribuida la columna de las diferencias del ranking Fifa entre los equipos que se enfrentan en cada partido."
   ]
  },
  {
   "cell_type": "code",
   "execution_count": 75,
   "id": "70d225b7",
   "metadata": {},
   "outputs": [
    {
     "data": {
      "image/png": "[encoded data removed]",
      "text/plain": [
       "<Figure size 1000x600 with 1 Axes>"
      ]
     },
     "metadata": {},
     "output_type": "display_data"
    }
   ],
   "source": [
    "# Graficamos la distribución de la diferencia de ranking FIFA entre los equipos\n",
    "# Configurar el estilo de Seaborn\n",
    "sns.set(style=\"whitegrid\")\n",
    "plt.figure(figsize=(10, 6))\n",
    "\n",
    "# Crear el histograma\n",
    "sns.histplot(data=data, x='diferencia_fifa_rank', bins=20, kde=False)\n",
    "plt.title('Histograma de Diferencia FIFA Rank')\n",
    "plt.xlabel('Diferencia FIFA Rank')\n",
    "plt.ylabel('Frecuencia')\n",
    "\n",
    "# Mostrar el histograma\n",
    "plt.show()"
   ]
  },
  {
   "cell_type": "markdown",
   "id": "e9054586",
   "metadata": {},
   "source": [
    "Observamos una distribución que se aproxima a la normal con un centro cercano a cero. Esto nos indica que, por lo general, los equipos enfrentados suelen estar equilibrados (poca diferencia en su posición del ranking) y en pocas ocasiones hay diferencias notables."
   ]
  },
  {
   "cell_type": "code",
   "execution_count": 76,
   "id": "b78fd700",
   "metadata": {},
   "outputs": [],
   "source": [
    "# se agrupa la información según su valor asignado en la columna \"diferencia_fifa_rank_app\" y se contabiliza la cantidad de cada resultado\n",
    "rangos_data = data.pivot_table(index=['diferencia_fifa_rank_app'], columns='resultado_A', values='equipo_A',aggfunc='count')\n",
    "\n",
    "rangos_data.reset_index(inplace=True)\n",
    "rangos_data.columns.name = None\n",
    "rangos_data=rangos_data.fillna(0)\n",
    "# Se adicionan columnas con el porcentaje de cada resultado\n",
    "rangos_data['Draw%']=(rangos_data['Draw']/(rangos_data['Draw']+rangos_data['Lose']+rangos_data['Win']))*100\n",
    "rangos_data['Lose%']=(rangos_data['Lose']/(rangos_data['Draw']+rangos_data['Lose']+rangos_data['Win']))*100\n",
    "rangos_data['Win%']=(rangos_data['Win']/(rangos_data['Draw']+rangos_data['Lose']+rangos_data['Win']))*100"
   ]
  },
  {
   "cell_type": "markdown",
   "id": "280c645d",
   "metadata": {},
   "source": [
    "En la tabla de a continuación se muestra un resumen con la información histórica de Victorias, Empates y Derrotas **(desde la perspectiva del equipo A)** en función de las diferencias de Ranking."
   ]
  },
  {
   "cell_type": "code",
   "execution_count": 77,
   "id": "a9529df6",
   "metadata": {},
   "outputs": [
    {
     "data": {
      "text/html": [
       "<div>\n",
       "<style scoped>\n",
       "    .dataframe tbody tr th:only-of-type {\n",
       "        vertical-align: middle;\n",
       "    }\n",
       "\n",
       "    .dataframe tbody tr th {\n",
       "        vertical-align: top;\n",
       "    }\n",
       "\n",
       "    .dataframe thead th {\n",
       "        text-align: right;\n",
       "    }\n",
       "</style>\n",
       "<table border=\"1\" class=\"dataframe\">\n",
       "  <thead>\n",
       "    <tr style=\"text-align: right;\">\n",
       "      <th></th>\n",
       "      <th>diferencia_fifa_rank_app</th>\n",
       "      <th>Draw</th>\n",
       "      <th>Lose</th>\n",
       "      <th>Win</th>\n",
       "      <th>Draw%</th>\n",
       "      <th>Lose%</th>\n",
       "      <th>Win%</th>\n",
       "    </tr>\n",
       "  </thead>\n",
       "  <tbody>\n",
       "    <tr>\n",
       "      <th>0</th>\n",
       "      <td>-200</td>\n",
       "      <td>0.0</td>\n",
       "      <td>7.0</td>\n",
       "      <td>0.0</td>\n",
       "      <td>0.000000</td>\n",
       "      <td>100.000000</td>\n",
       "      <td>0.000000</td>\n",
       "    </tr>\n",
       "    <tr>\n",
       "      <th>1</th>\n",
       "      <td>-150</td>\n",
       "      <td>0.0</td>\n",
       "      <td>93.0</td>\n",
       "      <td>2.0</td>\n",
       "      <td>0.000000</td>\n",
       "      <td>97.894737</td>\n",
       "      <td>2.105263</td>\n",
       "    </tr>\n",
       "    <tr>\n",
       "      <th>2</th>\n",
       "      <td>-100</td>\n",
       "      <td>103.0</td>\n",
       "      <td>533.0</td>\n",
       "      <td>51.0</td>\n",
       "      <td>14.992722</td>\n",
       "      <td>77.583697</td>\n",
       "      <td>7.423581</td>\n",
       "    </tr>\n",
       "    <tr>\n",
       "      <th>3</th>\n",
       "      <td>-50</td>\n",
       "      <td>670.0</td>\n",
       "      <td>1514.0</td>\n",
       "      <td>554.0</td>\n",
       "      <td>24.470416</td>\n",
       "      <td>55.295836</td>\n",
       "      <td>20.233747</td>\n",
       "    </tr>\n",
       "    <tr>\n",
       "      <th>4</th>\n",
       "      <td>0</td>\n",
       "      <td>4060.0</td>\n",
       "      <td>4364.0</td>\n",
       "      <td>7781.0</td>\n",
       "      <td>25.053996</td>\n",
       "      <td>26.929960</td>\n",
       "      <td>48.016044</td>\n",
       "    </tr>\n",
       "    <tr>\n",
       "      <th>5</th>\n",
       "      <td>50</td>\n",
       "      <td>515.0</td>\n",
       "      <td>244.0</td>\n",
       "      <td>2571.0</td>\n",
       "      <td>15.465465</td>\n",
       "      <td>7.327327</td>\n",
       "      <td>77.207207</td>\n",
       "    </tr>\n",
       "    <tr>\n",
       "      <th>6</th>\n",
       "      <td>100</td>\n",
       "      <td>41.0</td>\n",
       "      <td>15.0</td>\n",
       "      <td>683.0</td>\n",
       "      <td>5.548038</td>\n",
       "      <td>2.029770</td>\n",
       "      <td>92.422192</td>\n",
       "    </tr>\n",
       "    <tr>\n",
       "      <th>7</th>\n",
       "      <td>150</td>\n",
       "      <td>0.0</td>\n",
       "      <td>1.0</td>\n",
       "      <td>113.0</td>\n",
       "      <td>0.000000</td>\n",
       "      <td>0.877193</td>\n",
       "      <td>99.122807</td>\n",
       "    </tr>\n",
       "    <tr>\n",
       "      <th>8</th>\n",
       "      <td>200</td>\n",
       "      <td>0.0</td>\n",
       "      <td>0.0</td>\n",
       "      <td>6.0</td>\n",
       "      <td>0.000000</td>\n",
       "      <td>0.000000</td>\n",
       "      <td>100.000000</td>\n",
       "    </tr>\n",
       "  </tbody>\n",
       "</table>\n",
       "</div>"
      ],
      "text/plain": [
       "   diferencia_fifa_rank_app    Draw    Lose     Win      Draw%       Lose%  \\\n",
       "0                      -200     0.0     7.0     0.0   0.000000  100.000000   \n",
       "1                      -150     0.0    93.0     2.0   0.000000   97.894737   \n",
       "2                      -100   103.0   533.0    51.0  14.992722   77.583697   \n",
       "3                       -50   670.0  1514.0   554.0  24.470416   55.295836   \n",
       "4                         0  4060.0  4364.0  7781.0  25.053996   26.929960   \n",
       "5                        50   515.0   244.0  2571.0  15.465465    7.327327   \n",
       "6                       100    41.0    15.0   683.0   5.548038    2.029770   \n",
       "7                       150     0.0     1.0   113.0   0.000000    0.877193   \n",
       "8                       200     0.0     0.0     6.0   0.000000    0.000000   \n",
       "\n",
       "         Win%  \n",
       "0    0.000000  \n",
       "1    2.105263  \n",
       "2    7.423581  \n",
       "3   20.233747  \n",
       "4   48.016044  \n",
       "5   77.207207  \n",
       "6   92.422192  \n",
       "7   99.122807  \n",
       "8  100.000000  "
      ]
     },
     "execution_count": 77,
     "metadata": {},
     "output_type": "execute_result"
    }
   ],
   "source": [
    "rangos_data"
   ]
  },
  {
   "cell_type": "code",
   "execution_count": 78,
   "id": "04b2f1e9",
   "metadata": {
    "scrolled": false
   },
   "outputs": [
    {
     "data": {
      "text/html": [
       "<div>\n",
       "<style scoped>\n",
       "    .dataframe tbody tr th:only-of-type {\n",
       "        vertical-align: middle;\n",
       "    }\n",
       "\n",
       "    .dataframe tbody tr th {\n",
       "        vertical-align: top;\n",
       "    }\n",
       "\n",
       "    .dataframe thead th {\n",
       "        text-align: right;\n",
       "    }\n",
       "</style>\n",
       "<table border=\"1\" class=\"dataframe\">\n",
       "  <thead>\n",
       "    <tr style=\"text-align: right;\">\n",
       "      <th></th>\n",
       "      <th>Diferencia_FIFA_Rank</th>\n",
       "      <th>Victoria% (equipo local)</th>\n",
       "      <th>Empates% (equipo local)</th>\n",
       "      <th>Victoria% (equipo visita)</th>\n",
       "      <th>Empates% (equipo visita)</th>\n",
       "    </tr>\n",
       "  </thead>\n",
       "  <tbody>\n",
       "    <tr>\n",
       "      <th>0</th>\n",
       "      <td>-200</td>\n",
       "      <td>0.000000</td>\n",
       "      <td>0.000000</td>\n",
       "      <td>0.000000</td>\n",
       "      <td>0.000000</td>\n",
       "    </tr>\n",
       "    <tr>\n",
       "      <th>1</th>\n",
       "      <td>-150</td>\n",
       "      <td>2.105263</td>\n",
       "      <td>0.000000</td>\n",
       "      <td>0.877193</td>\n",
       "      <td>0.000000</td>\n",
       "    </tr>\n",
       "    <tr>\n",
       "      <th>2</th>\n",
       "      <td>-100</td>\n",
       "      <td>7.423581</td>\n",
       "      <td>14.992722</td>\n",
       "      <td>2.029770</td>\n",
       "      <td>5.548038</td>\n",
       "    </tr>\n",
       "    <tr>\n",
       "      <th>3</th>\n",
       "      <td>-50</td>\n",
       "      <td>20.233747</td>\n",
       "      <td>24.470416</td>\n",
       "      <td>7.327327</td>\n",
       "      <td>15.465465</td>\n",
       "    </tr>\n",
       "    <tr>\n",
       "      <th>4</th>\n",
       "      <td>0</td>\n",
       "      <td>48.016044</td>\n",
       "      <td>25.053996</td>\n",
       "      <td>26.929960</td>\n",
       "      <td>25.053996</td>\n",
       "    </tr>\n",
       "    <tr>\n",
       "      <th>5</th>\n",
       "      <td>50</td>\n",
       "      <td>77.207207</td>\n",
       "      <td>15.465465</td>\n",
       "      <td>55.295836</td>\n",
       "      <td>24.470416</td>\n",
       "    </tr>\n",
       "    <tr>\n",
       "      <th>6</th>\n",
       "      <td>100</td>\n",
       "      <td>92.422192</td>\n",
       "      <td>5.548038</td>\n",
       "      <td>77.583697</td>\n",
       "      <td>14.992722</td>\n",
       "    </tr>\n",
       "    <tr>\n",
       "      <th>7</th>\n",
       "      <td>150</td>\n",
       "      <td>99.122807</td>\n",
       "      <td>0.000000</td>\n",
       "      <td>97.894737</td>\n",
       "      <td>0.000000</td>\n",
       "    </tr>\n",
       "    <tr>\n",
       "      <th>8</th>\n",
       "      <td>200</td>\n",
       "      <td>100.000000</td>\n",
       "      <td>0.000000</td>\n",
       "      <td>100.000000</td>\n",
       "      <td>0.000000</td>\n",
       "    </tr>\n",
       "  </tbody>\n",
       "</table>\n",
       "</div>"
      ],
      "text/plain": [
       "   Diferencia_FIFA_Rank  Victoria% (equipo local)  Empates% (equipo local)  \\\n",
       "0                  -200                  0.000000                 0.000000   \n",
       "1                  -150                  2.105263                 0.000000   \n",
       "2                  -100                  7.423581                14.992722   \n",
       "3                   -50                 20.233747                24.470416   \n",
       "4                     0                 48.016044                25.053996   \n",
       "5                    50                 77.207207                15.465465   \n",
       "6                   100                 92.422192                 5.548038   \n",
       "7                   150                 99.122807                 0.000000   \n",
       "8                   200                100.000000                 0.000000   \n",
       "\n",
       "   Victoria% (equipo visita)  Empates% (equipo visita)  \n",
       "0                   0.000000                  0.000000  \n",
       "1                   0.877193                  0.000000  \n",
       "2                   2.029770                  5.548038  \n",
       "3                   7.327327                 15.465465  \n",
       "4                  26.929960                 25.053996  \n",
       "5                  55.295836                 24.470416  \n",
       "6                  77.583697                 14.992722  \n",
       "7                  97.894737                  0.000000  \n",
       "8                 100.000000                  0.000000  "
      ]
     },
     "execution_count": 78,
     "metadata": {},
     "output_type": "execute_result"
    }
   ],
   "source": [
    "#Se modifica la tabla de forma que se obtenga el porcentaje de victorias y empates\n",
    "# tanto para el equipo local como para el equipo visitante\n",
    "\n",
    "#Creamos una tabla auxiliar con información de Victorias, Empates, Derrotas desde la perpectiva del equipo A\n",
    "rangos_data2=rangos_data[['diferencia_fifa_rank_app','Win%','Draw%']]\n",
    "rangos_data2.columns.name = None\n",
    "nuevos_nombres = {\n",
    "    'diferencia_fifa_rank_app': 'Diferencia_FIFA_Rank',\n",
    "    'Win%': 'Victoria% (equipo local)',\n",
    "    'Draw%': 'Empates% (equipo local)',\n",
    "}\n",
    "rangos_data2 = rangos_data2.rename(columns=nuevos_nombres)\n",
    "#-----------------------------------------------------\n",
    "\n",
    "#Creamos una tabla auxiliar con información de Victorias, Empates, Derrotas desde la perpectiva del equipo B\n",
    "rangos_data3=rangos_data[['diferencia_fifa_rank_app','Lose%','Draw%']]\n",
    "rangos_data2.columns.name = None\n",
    "\n",
    "#Invertimos 'diferencia_fifa_rank_app' y reoirdenamos\n",
    "rangos_data3['diferencia_fifa_rank_app'] = rangos_data3['diferencia_fifa_rank_app'] *-1\n",
    "rangos_data3 = rangos_data3.sort_values(by='diferencia_fifa_rank_app')\n",
    "\n",
    "rangos_data3 = rangos_data3.reset_index(drop=True)\n",
    "nuevos_nombres = {\n",
    "    'diferencia_fifa_rank_app': 'Diferencia_FIFA_Rank',\n",
    "    'Lose%': 'Victoria% (equipo visita)',\n",
    "    'Draw%': 'Empates% (equipo visita)',\n",
    "}\n",
    "rangos_data3 = rangos_data3.rename(columns=nuevos_nombres)\n",
    "\n",
    "#Fusionamos las dos tablas\n",
    "rangos_data_final = rangos_data2.merge(rangos_data3, on='Diferencia_FIFA_Rank', how='right')\n",
    "\n",
    "# Se redondean los valores de los porcentajes\n",
    "#lista_columnas = ['Victoria% (equipo local)','Empates% (equipo local)','Victoria% (equipo visita)','Empates% (equipo visita)']\n",
    "#rangos_data_final[lista_columnas].round(2)\n",
    "rangos_data_final"
   ]
  },
  {
   "cell_type": "code",
   "execution_count": 79,
   "id": "f53c39bb",
   "metadata": {},
   "outputs": [
    {
     "data": {
      "application/vnd.plotly.v1+json": {
       "config": {
        "plotlyServerURL": "https://plot.ly"
       },
       "data": [
        {
         "mode": "lines+markers",
         "name": "Victorias (equipo local)",
         "type": "scatter",
         "x": [
          -200,
          -150,
          -100,
          -50,
          0,
          50,
          100,
          150,
          200
         ],
         "y": [
          0,
          2.1052631578947367,
          7.423580786026202,
          20.233747260774287,
          48.016044430731256,
          77.2072072072072,
          92.42219215155616,
          99.12280701754386,
          100
         ]
        },
        {
         "mode": "lines+markers",
         "name": "Empates (equipo local)",
         "type": "scatter",
         "x": [
          -200,
          -150,
          -100,
          -50,
          0,
          50,
          100,
          150,
          200
         ],
         "y": [
          0,
          0,
          14.992721979621543,
          24.470416362308253,
          25.05399568034557,
          15.465465465465467,
          5.548037889039242,
          0,
          0
         ]
        },
        {
         "mode": "lines+markers",
         "name": "Empates (equipo visita)",
         "type": "scatter",
         "x": [
          -200,
          -150,
          -100,
          -50,
          0,
          50,
          100,
          150,
          200
         ],
         "y": [
          0,
          0,
          5.548037889039242,
          15.465465465465467,
          25.05399568034557,
          24.470416362308253,
          14.992721979621543,
          0,
          0
         ]
        },
        {
         "mode": "lines+markers",
         "name": "Victorias (equipo visita)",
         "type": "scatter",
         "x": [
          -200,
          -150,
          -100,
          -50,
          0,
          50,
          100,
          150,
          200
         ],
         "y": [
          0,
          0.8771929824561403,
          2.029769959404601,
          7.327327327327328,
          26.92995988892317,
          55.295836376917464,
          77.58369723435226,
          97.89473684210527,
          100
         ]
        }
       ],
       "layout": {
        "legend": {
         "font": {
          "size": 12
         }
        },
        "shapes": [
         {
          "line": {
           "color": "gray",
           "dash": "dash",
           "width": 2
          },
          "type": "line",
          "x0": 0,
          "x1": 0,
          "y0": 0,
          "y1": 100
         }
        ],
        "template": {
         "data": {
          "bar": [
           {
            "error_x": {
             "color": "#2a3f5f"
            },
            "error_y": {
             "color": "#2a3f5f"
            },
            "marker": {
             "line": {
              "color": "#E5ECF6",
              "width": 0.5
             },
             "pattern": {
              "fillmode": "overlay",
              "size": 10,
              "solidity": 0.2
             }
            },
            "type": "bar"
           }
          ],
          "barpolar": [
           {
            "marker": {
             "line": {
              "color": "#E5ECF6",
              "width": 0.5
             },
             "pattern": {
              "fillmode": "overlay",
              "size": 10,
              "solidity": 0.2
             }
            },
            "type": "barpolar"
           }
          ],
          "carpet": [
           {
            "aaxis": {
             "endlinecolor": "#2a3f5f",
             "gridcolor": "white",
             "linecolor": "white",
             "minorgridcolor": "white",
             "startlinecolor": "#2a3f5f"
            },
            "baxis": {
             "endlinecolor": "#2a3f5f",
             "gridcolor": "white",
             "linecolor": "white",
             "minorgridcolor": "white",
             "startlinecolor": "#2a3f5f"
            },
            "type": "carpet"
           }
          ],
          "choropleth": [
           {
            "colorbar": {
             "outlinewidth": 0,
             "ticks": ""
            },
            "type": "choropleth"
           }
          ],
          "contour": [
           {
            "colorbar": {
             "outlinewidth": 0,
             "ticks": ""
            },
            "colorscale": [
             [
              0,
              "#0d0887"
             ],
             [
              0.1111111111111111,
              "#46039f"
             ],
             [
              0.2222222222222222,
              "#7201a8"
             ],
             [
              0.3333333333333333,
              "#9c179e"
             ],
             [
              0.4444444444444444,
              "#bd3786"
             ],
             [
              0.5555555555555556,
              "#d8576b"
             ],
             [
              0.6666666666666666,
              "#ed7953"
             ],
             [
              0.7777777777777778,
              "#fb9f3a"
             ],
             [
              0.8888888888888888,
              "#fdca26"
             ],
             [
              1,
              "#f0f921"
             ]
            ],
            "type": "contour"
           }
          ],
          "contourcarpet": [
           {
            "colorbar": {
             "outlinewidth": 0,
             "ticks": ""
            },
            "type": "contourcarpet"
           }
          ],
          "heatmap": [
           {
            "colorbar": {
             "outlinewidth": 0,
             "ticks": ""
            },
            "colorscale": [
             [
              0,
              "#0d0887"
             ],
             [
              0.1111111111111111,
              "#46039f"
             ],
             [
              0.2222222222222222,
              "#7201a8"
             ],
             [
              0.3333333333333333,
              "#9c179e"
             ],
             [
              0.4444444444444444,
              "#bd3786"
             ],
             [
              0.5555555555555556,
              "#d8576b"
             ],
             [
              0.6666666666666666,
              "#ed7953"
             ],
             [
              0.7777777777777778,
              "#fb9f3a"
             ],
             [
              0.8888888888888888,
              "#fdca26"
             ],
             [
              1,
              "#f0f921"
             ]
            ],
            "type": "heatmap"
           }
          ],
          "heatmapgl": [
           {
            "colorbar": {
             "outlinewidth": 0,
             "ticks": ""
            },
            "colorscale": [
             [
              0,
              "#0d0887"
             ],
             [
              0.1111111111111111,
              "#46039f"
             ],
             [
              0.2222222222222222,
              "#7201a8"
             ],
             [
              0.3333333333333333,
              "#9c179e"
             ],
             [
              0.4444444444444444,
              "#bd3786"
             ],
             [
              0.5555555555555556,
              "#d8576b"
             ],
             [
              0.6666666666666666,
              "#ed7953"
             ],
             [
              0.7777777777777778,
              "#fb9f3a"
             ],
             [
              0.8888888888888888,
              "#fdca26"
             ],
             [
              1,
              "#f0f921"
             ]
            ],
            "type": "heatmapgl"
           }
          ],
          "histogram": [
           {
            "marker": {
             "pattern": {
              "fillmode": "overlay",
              "size": 10,
              "solidity": 0.2
             }
            },
            "type": "histogram"
           }
          ],
          "histogram2d": [
           {
            "colorbar": {
             "outlinewidth": 0,
             "ticks": ""
            },
            "colorscale": [
             [
              0,
              "#0d0887"
             ],
             [
              0.1111111111111111,
              "#46039f"
             ],
             [
              0.2222222222222222,
              "#7201a8"
             ],
             [
              0.3333333333333333,
              "#9c179e"
             ],
             [
              0.4444444444444444,
              "#bd3786"
             ],
             [
              0.5555555555555556,
              "#d8576b"
             ],
             [
              0.6666666666666666,
              "#ed7953"
             ],
             [
              0.7777777777777778,
              "#fb9f3a"
             ],
             [
              0.8888888888888888,
              "#fdca26"
             ],
             [
              1,
              "#f0f921"
             ]
            ],
            "type": "histogram2d"
           }
          ],
          "histogram2dcontour": [
           {
            "colorbar": {
             "outlinewidth": 0,
             "ticks": ""
            },
            "colorscale": [
             [
              0,
              "#0d0887"
             ],
             [
              0.1111111111111111,
              "#46039f"
             ],
             [
              0.2222222222222222,
              "#7201a8"
             ],
             [
              0.3333333333333333,
              "#9c179e"
             ],
             [
              0.4444444444444444,
              "#bd3786"
             ],
             [
              0.5555555555555556,
              "#d8576b"
             ],
             [
              0.6666666666666666,
              "#ed7953"
             ],
             [
              0.7777777777777778,
              "#fb9f3a"
             ],
             [
              0.8888888888888888,
              "#fdca26"
             ],
             [
              1,
              "#f0f921"
             ]
            ],
            "type": "histogram2dcontour"
           }
          ],
          "mesh3d": [
           {
            "colorbar": {
             "outlinewidth": 0,
             "ticks": ""
            },
            "type": "mesh3d"
           }
          ],
          "parcoords": [
           {
            "line": {
             "colorbar": {
              "outlinewidth": 0,
              "ticks": ""
             }
            },
            "type": "parcoords"
           }
          ],
          "pie": [
           {
            "automargin": true,
            "type": "pie"
           }
          ],
          "scatter": [
           {
            "fillpattern": {
             "fillmode": "overlay",
             "size": 10,
             "solidity": 0.2
            },
            "type": "scatter"
           }
          ],
          "scatter3d": [
           {
            "line": {
             "colorbar": {
              "outlinewidth": 0,
              "ticks": ""
             }
            },
            "marker": {
             "colorbar": {
              "outlinewidth": 0,
              "ticks": ""
             }
            },
            "type": "scatter3d"
           }
          ],
          "scattercarpet": [
           {
            "marker": {
             "colorbar": {
              "outlinewidth": 0,
              "ticks": ""
             }
            },
            "type": "scattercarpet"
           }
          ],
          "scattergeo": [
           {
            "marker": {
             "colorbar": {
              "outlinewidth": 0,
              "ticks": ""
             }
            },
            "type": "scattergeo"
           }
          ],
          "scattergl": [
           {
            "marker": {
             "colorbar": {
              "outlinewidth": 0,
              "ticks": ""
             }
            },
            "type": "scattergl"
           }
          ],
          "scattermapbox": [
           {
            "marker": {
             "colorbar": {
              "outlinewidth": 0,
              "ticks": ""
             }
            },
            "type": "scattermapbox"
           }
          ],
          "scatterpolar": [
           {
            "marker": {
             "colorbar": {
              "outlinewidth": 0,
              "ticks": ""
             }
            },
            "type": "scatterpolar"
           }
          ],
          "scatterpolargl": [
           {
            "marker": {
             "colorbar": {
              "outlinewidth": 0,
              "ticks": ""
             }
            },
            "type": "scatterpolargl"
           }
          ],
          "scatterternary": [
           {
            "marker": {
             "colorbar": {
              "outlinewidth": 0,
              "ticks": ""
             }
            },
            "type": "scatterternary"
           }
          ],
          "surface": [
           {
            "colorbar": {
             "outlinewidth": 0,
             "ticks": ""
            },
            "colorscale": [
             [
              0,
              "#0d0887"
             ],
             [
              0.1111111111111111,
              "#46039f"
             ],
             [
              0.2222222222222222,
              "#7201a8"
             ],
             [
              0.3333333333333333,
              "#9c179e"
             ],
             [
              0.4444444444444444,
              "#bd3786"
             ],
             [
              0.5555555555555556,
              "#d8576b"
             ],
             [
              0.6666666666666666,
              "#ed7953"
             ],
             [
              0.7777777777777778,
              "#fb9f3a"
             ],
             [
              0.8888888888888888,
              "#fdca26"
             ],
             [
              1,
              "#f0f921"
             ]
            ],
            "type": "surface"
           }
          ],
          "table": [
           {
            "cells": {
             "fill": {
              "color": "#EBF0F8"
             },
             "line": {
              "color": "white"
             }
            },
            "header": {
             "fill": {
              "color": "#C8D4E3"
             },
             "line": {
              "color": "white"
             }
            },
            "type": "table"
           }
          ]
         },
         "layout": {
          "annotationdefaults": {
           "arrowcolor": "#2a3f5f",
           "arrowhead": 0,
           "arrowwidth": 1
          },
          "autotypenumbers": "strict",
          "coloraxis": {
           "colorbar": {
            "outlinewidth": 0,
            "ticks": ""
           }
          },
          "colorscale": {
           "diverging": [
            [
             0,
             "#8e0152"
            ],
            [
             0.1,
             "#c51b7d"
            ],
            [
             0.2,
             "#de77ae"
            ],
            [
             0.3,
             "#f1b6da"
            ],
            [
             0.4,
             "#fde0ef"
            ],
            [
             0.5,
             "#f7f7f7"
            ],
            [
             0.6,
             "#e6f5d0"
            ],
            [
             0.7,
             "#b8e186"
            ],
            [
             0.8,
             "#7fbc41"
            ],
            [
             0.9,
             "#4d9221"
            ],
            [
             1,
             "#276419"
            ]
           ],
           "sequential": [
            [
             0,
             "#0d0887"
            ],
            [
             0.1111111111111111,
             "#46039f"
            ],
            [
             0.2222222222222222,
             "#7201a8"
            ],
            [
             0.3333333333333333,
             "#9c179e"
            ],
            [
             0.4444444444444444,
             "#bd3786"
            ],
            [
             0.5555555555555556,
             "#d8576b"
            ],
            [
             0.6666666666666666,
             "#ed7953"
            ],
            [
             0.7777777777777778,
             "#fb9f3a"
            ],
            [
             0.8888888888888888,
             "#fdca26"
            ],
            [
             1,
             "#f0f921"
            ]
           ],
           "sequentialminus": [
            [
             0,
             "#0d0887"
            ],
            [
             0.1111111111111111,
             "#46039f"
            ],
            [
             0.2222222222222222,
             "#7201a8"
            ],
            [
             0.3333333333333333,
             "#9c179e"
            ],
            [
             0.4444444444444444,
             "#bd3786"
            ],
            [
             0.5555555555555556,
             "#d8576b"
            ],
            [
             0.6666666666666666,
             "#ed7953"
            ],
            [
             0.7777777777777778,
             "#fb9f3a"
            ],
            [
             0.8888888888888888,
             "#fdca26"
            ],
            [
             1,
             "#f0f921"
            ]
           ]
          },
          "colorway": [
           "#636efa",
           "#EF553B",
           "#00cc96",
           "#ab63fa",
           "#FFA15A",
           "#19d3f3",
           "#FF6692",
           "#B6E880",
           "#FF97FF",
           "#FECB52"
          ],
          "font": {
           "color": "#2a3f5f"
          },
          "geo": {
           "bgcolor": "white",
           "lakecolor": "white",
           "landcolor": "#E5ECF6",
           "showlakes": true,
           "showland": true,
           "subunitcolor": "white"
          },
          "hoverlabel": {
           "align": "left"
          },
          "hovermode": "closest",
          "mapbox": {
           "style": "light"
          },
          "paper_bgcolor": "white",
          "plot_bgcolor": "#E5ECF6",
          "polar": {
           "angularaxis": {
            "gridcolor": "white",
            "linecolor": "white",
            "ticks": ""
           },
           "bgcolor": "#E5ECF6",
           "radialaxis": {
            "gridcolor": "white",
            "linecolor": "white",
            "ticks": ""
           }
          },
          "scene": {
           "xaxis": {
            "backgroundcolor": "#E5ECF6",
            "gridcolor": "white",
            "gridwidth": 2,
            "linecolor": "white",
            "showbackground": true,
            "ticks": "",
            "zerolinecolor": "white"
           },
           "yaxis": {
            "backgroundcolor": "#E5ECF6",
            "gridcolor": "white",
            "gridwidth": 2,
            "linecolor": "white",
            "showbackground": true,
            "ticks": "",
            "zerolinecolor": "white"
           },
           "zaxis": {
            "backgroundcolor": "#E5ECF6",
            "gridcolor": "white",
            "gridwidth": 2,
            "linecolor": "white",
            "showbackground": true,
            "ticks": "",
            "zerolinecolor": "white"
           }
          },
          "shapedefaults": {
           "line": {
            "color": "#2a3f5f"
           }
          },
          "ternary": {
           "aaxis": {
            "gridcolor": "white",
            "linecolor": "white",
            "ticks": ""
           },
           "baxis": {
            "gridcolor": "white",
            "linecolor": "white",
            "ticks": ""
           },
           "bgcolor": "#E5ECF6",
           "caxis": {
            "gridcolor": "white",
            "linecolor": "white",
            "ticks": ""
           }
          },
          "title": {
           "x": 0.05
          },
          "xaxis": {
           "automargin": true,
           "gridcolor": "white",
           "linecolor": "white",
           "ticks": "",
           "title": {
            "standoff": 15
           },
           "zerolinecolor": "white",
           "zerolinewidth": 2
          },
          "yaxis": {
           "automargin": true,
           "gridcolor": "white",
           "linecolor": "white",
           "ticks": "",
           "title": {
            "standoff": 15
           },
           "zerolinecolor": "white",
           "zerolinewidth": 2
          }
         }
        },
        "title": {
         "text": "Relaciones entre Porcentaje de Resultados y Diferencia de Ranking FIFA"
        },
        "xaxis": {
         "title": {
          "text": "<---Desventaja                    Diferencia Ranking                     Ventaja --->"
         }
        },
        "yaxis": {
         "title": {
          "text": "Porcentaje (%)"
         }
        }
       }
      }
     },
     "metadata": {},
     "output_type": "display_data"
    }
   ],
   "source": [
    "# Graficamos las relaciones entre el porcentaje de los resultados de cada equipo y la diferencia de su ranking FIFA\n",
    "\n",
    "# Crear las líneas y los marcadores con plotly.graph_objs\n",
    "traces = []\n",
    "\n",
    "traces.append(go.Scatter(x=rangos_data_final['Diferencia_FIFA_Rank'], y=rangos_data_final['Victoria% (equipo local)'],\n",
    "                         mode='lines+markers', name='Victorias (equipo local)'))\n",
    "traces.append(go.Scatter(x=rangos_data_final['Diferencia_FIFA_Rank'], y=rangos_data_final['Empates% (equipo local)'],\n",
    "                         mode='lines+markers', name='Empates (equipo local)'))\n",
    "traces.append(go.Scatter(x=rangos_data_final['Diferencia_FIFA_Rank'], y=rangos_data_final['Empates% (equipo visita)'],\n",
    "                         mode='lines+markers', name='Empates (equipo visita)'))\n",
    "traces.append(go.Scatter(x=rangos_data_final['Diferencia_FIFA_Rank'], y=rangos_data_final['Victoria% (equipo visita)'],\n",
    "                         mode='lines+markers', name='Victorias (equipo visita)'))\n",
    "\n",
    "# Crear una línea vertical\n",
    "shapes = [dict(type=\"line\", x0=0, x1=0, y0=0, y1=100, line=dict(color=\"gray\", width=2, dash=\"dash\"))]\n",
    "\n",
    "# Crear el diseño del gráfico\n",
    "layout = go.Layout(\n",
    "    title='Relaciones entre Porcentaje de Resultados y Diferencia de Ranking FIFA',\n",
    "    xaxis=dict(title='<---Desventaja                    Diferencia Ranking                     Ventaja --->'),\n",
    "    yaxis=dict(title='Porcentaje (%)'),\n",
    "    legend=dict(font=dict(size=12)),\n",
    "    shapes=shapes\n",
    ")\n",
    "\n",
    "# Crear la figura\n",
    "fig = go.Figure(data=traces, layout=layout)\n",
    "\n",
    "# Mostrar el gráfico\n",
    "fig.show()"
   ]
  },
  {
   "cell_type": "markdown",
   "id": "ddcf783b",
   "metadata": {},
   "source": [
    "Se grafican los datos de forma que si la diferencia es menor a 0, el equipo se encuentra en desventaja por ser de un ranking menor a su adversario, y si la diferencia es mayor a 0, el equipo se encuentra en ventaja por ser de un ranking mayor a su adversario. Al haber obtenido la proporción de victorias y empates de los equipos jugando de local y de visita frente a su total de partidos, se interpretan los resultados en términos de probabilidad."
   ]
  },
  {
   "cell_type": "markdown",
   "id": "1c198a7e",
   "metadata": {},
   "source": [
    "Por lo tanto, a partir del gráfico se puede observar lo siguiente: \n",
    "- Cuando un equipo se encuentra en una desventaja alta (menor a -150) la probabilidad de victoria o empate es muy baja y es casi despreciable el hecho de jugar de local o visitante. \n",
    "- Cuando  la desventaja es moderada (entre -100 y -50) la probabilidad de victoria o empate para cualquier equipo es menor al 50%. Sin embargo, es más probable que el equipo local obtenga un empate que un victoria, mientras que lo menos probable es que el equipo visitante obtenga una victoria si está en desventaja.\n",
    "- Cuando la desventaja es nula (igual a 0) observamos que las probabilidades de empate de ambos equipos o victoria del equipo visitante son similares entre sí pero continúan por debajo del 50%. La probabilidad de victoria del equipo local, en cambio, se acerca al 50%, por lo que la localía mejora la probabilidad de victoria.\n",
    "- Cuando la ventaja del equipo es moderada (entre 50 y 100) la probabilidad de victoria del equipo local es más alta (entre 70 y 90% aproximadamente) que otro resultado, mientras que la probabilidad de un empate del mismo equipo es la más baja (entre 5 y 20% aproximadamente). \n",
    "- Cuando la ventaja del equipo es alta (mayor a 150) la probabilidad de victoria tanto del equipo local como del visitante es muy alta (entre 90 y 100% aproximadamente), mientras que la probabilidad de empate es muy baja (menor al 5% aproximadamente).\n",
    "\n",
    "En general, se puede decir que la localía otorga una ventaja importante en los partidos, contribuyendo a aumentar las probabilidades de victoria cuando el equipo se encuentra equilibrado o en ventaja frente a su adversario o a aumentar la probabilidad de empate cuando el equipo se encuentra en desventaja frente a su adversario. De manera similar, se puede decir que siempre existirá una mayor probabilidad de victoria de un equipo al jugar de local que al jugar de visitante, independientemente de la ventaja o desventaja que tenga frente a su adversario."
   ]
  },
  {
   "cell_type": "markdown",
   "id": "6c0914b1",
   "metadata": {},
   "source": [
    "## 5. <a id='toc5_'></a>[Modelos de predicción: ¿Es posible construir un mejor predictor para ganar un partido que el ranking FIFA?](#toc0_)"
   ]
  },
  {
   "cell_type": "markdown",
   "id": "83cfce59",
   "metadata": {},
   "source": [
    "Basándonos solamente en el ranking FIFA, podemos intentar predecir el resultado de un enfrentamiento comparando la diferencia de rankings, en donde:\n",
    "\n",
    "- Si el ranking del equipo A es mayor que el equipo B, entonces predecimos que ganará el equipo A\n",
    "- Si el ranking del equipo B es mayor que el equipo A, entonces predecimos que ganará el equipo B\n",
    "\n",
    "Claramente, este criterio es muy simple y deja de lado muchas variables importantes, como por ejemplo, si el equipo juega de local o no, dónde y cuándo se juega, qué tipo de torneo es, los fifa points, etc.  \n",
    "\n",
    "Es por esto que intentaremos crear un modelo de predicción que sea considere todas estas variables y evaluaremos su desempeño comparándolo con el criterio descrito anteriormente."
   ]
  },
  {
   "cell_type": "markdown",
   "id": "bf21616e",
   "metadata": {},
   "source": [
    "### 5.1. <a id='toc5_1_'></a>[Definimos la data para entrenar nuestros modelos](#toc0_)"
   ]
  },
  {
   "cell_type": "code",
   "execution_count": 80,
   "id": "1db0b668",
   "metadata": {},
   "outputs": [
    {
     "name": "stdout",
     "output_type": "stream",
     "text": [
      "<class 'pandas.core.frame.DataFrame'>\n",
      "RangeIndex: 23921 entries, 0 to 23920\n",
      "Data columns (total 14 columns):\n",
      " #   Column            Non-Null Count  Dtype \n",
      "---  ------            --------------  ----- \n",
      " 0   equipo_A          23921 non-null  object\n",
      " 1   equipo_B          23921 non-null  object\n",
      " 2   continente_A      23921 non-null  object\n",
      " 3   continente_B      23921 non-null  object\n",
      " 4   fifa_rank_A       23921 non-null  int64 \n",
      " 5   fifa_rank_B       23921 non-null  int64 \n",
      " 6   fifa_points_A     23921 non-null  int64 \n",
      " 7   fifa_points_B     23921 non-null  int64 \n",
      " 8   torneo            23921 non-null  object\n",
      " 9   ciudad            23921 non-null  object\n",
      " 10  pais              23921 non-null  object\n",
      " 11  locacion_neutral  23921 non-null  bool  \n",
      " 12  año               23921 non-null  int64 \n",
      " 13  resultado_A_num   23921 non-null  int32 \n",
      "dtypes: bool(1), int32(1), int64(5), object(7)\n",
      "memory usage: 2.3+ MB\n"
     ]
    }
   ],
   "source": [
    "data_prediccion=data[['equipo_A',\n",
    "                      'equipo_B',\n",
    "                      'continente_A',\n",
    "                      'continente_B',\n",
    "                      'fifa_rank_A',\n",
    "                      'fifa_rank_B',\n",
    "                      'fifa_points_A',\n",
    "                      'fifa_points_B',\n",
    "                      'torneo',\n",
    "                      'ciudad',\n",
    "                      'pais',\n",
    "                      'locacion_neutral','año','resultado_A_num']]\n",
    "\n",
    "#reemplazos = {'Win': 1, 'Draw': 0, 'Lose': -1}\n",
    "#data_prediccion['resultado_equipo_A'] = data2['resultado_A'].replace(reemplazos)\n",
    "#data_prediccion['resultado_equipo_A'] = data2['resultado_A']\n",
    "data_prediccion.info()"
   ]
  },
  {
   "cell_type": "markdown",
   "id": "9628605d",
   "metadata": {
    "scrolled": true
   },
   "source": [
    "Ahora que tenemos nuestras variables de interés, es momento de definir las variables característica y la variable objetivo. En este caso, nuestra *variable objetivo* (a predecir) será `resultado_A_num` la cual:  \n",
    "- Asigna 1 si gana el equipo A (pierde equipo B)\n",
    "- Asigna 0 si empata el equipo A (ambos empatan)\n",
    "- Asigna -1 si pierde el equipo A (gana equipo B) \n",
    "\n",
    "El resto de variables serán las *variables característica*. Dado que la variable objetivo puede asumir 3 valores diferentes, nuestro modelo de predicción será un **modelo de clasificación**."
   ]
  },
  {
   "cell_type": "markdown",
   "id": "0bd592c3",
   "metadata": {},
   "source": [
    "### 5.2. <a id='toc5_2_'></a>[Evaluamos el modelo simple basado en el Ranking FIFA](#toc0_)"
   ]
  },
  {
   "cell_type": "markdown",
   "id": "8a9c04c0",
   "metadata": {},
   "source": [
    "A continuación construiremos un modelo simple que considere los criterios definidos arriba y evaluaremos su desempeño."
   ]
  },
  {
   "cell_type": "code",
   "execution_count": 81,
   "id": "48d6d8b1",
   "metadata": {},
   "outputs": [],
   "source": [
    "#Creamos modelo que predice que gana A si su ranking es mayor y viceversa\n",
    "def prediccion_basica(row):\n",
    "    if row['fifa_rank_A']>row['fifa_rank_B']:\n",
    "        return 1\n",
    "    elif row['fifa_rank_B']>row['fifa_rank_A']:\n",
    "        return -1\n",
    "    else:\n",
    "        return 0 \n",
    "\n",
    "#Probamos el desempeño    \n",
    "prediction_basic = data_prediccion.apply(prediccion_basica, axis=1).values\n",
    "#print(classification_report(target_valid,prediction_basic))\n",
    "prediction_basic = pd.Series(prediction_basic,name='prediccion_simple')"
   ]
  },
  {
   "cell_type": "code",
   "execution_count": 82,
   "id": "ef1d7813",
   "metadata": {},
   "outputs": [
    {
     "data": {
      "text/html": [
       "<div>\n",
       "<style scoped>\n",
       "    .dataframe tbody tr th:only-of-type {\n",
       "        vertical-align: middle;\n",
       "    }\n",
       "\n",
       "    .dataframe tbody tr th {\n",
       "        vertical-align: top;\n",
       "    }\n",
       "\n",
       "    .dataframe thead th {\n",
       "        text-align: right;\n",
       "    }\n",
       "</style>\n",
       "<table border=\"1\" class=\"dataframe\">\n",
       "  <thead>\n",
       "    <tr style=\"text-align: right;\">\n",
       "      <th></th>\n",
       "      <th>resultado_A_num</th>\n",
       "      <th>prediccion_simple</th>\n",
       "      <th>resultado</th>\n",
       "    </tr>\n",
       "  </thead>\n",
       "  <tbody>\n",
       "    <tr>\n",
       "      <th>23537</th>\n",
       "      <td>1</td>\n",
       "      <td>-1</td>\n",
       "      <td>Falló</td>\n",
       "    </tr>\n",
       "    <tr>\n",
       "      <th>11477</th>\n",
       "      <td>-1</td>\n",
       "      <td>1</td>\n",
       "      <td>Falló</td>\n",
       "    </tr>\n",
       "    <tr>\n",
       "      <th>14130</th>\n",
       "      <td>1</td>\n",
       "      <td>-1</td>\n",
       "      <td>Falló</td>\n",
       "    </tr>\n",
       "    <tr>\n",
       "      <th>17903</th>\n",
       "      <td>-1</td>\n",
       "      <td>-1</td>\n",
       "      <td>Acertó</td>\n",
       "    </tr>\n",
       "    <tr>\n",
       "      <th>9000</th>\n",
       "      <td>-1</td>\n",
       "      <td>1</td>\n",
       "      <td>Falló</td>\n",
       "    </tr>\n",
       "    <tr>\n",
       "      <th>9002</th>\n",
       "      <td>-1</td>\n",
       "      <td>1</td>\n",
       "      <td>Falló</td>\n",
       "    </tr>\n",
       "    <tr>\n",
       "      <th>7931</th>\n",
       "      <td>0</td>\n",
       "      <td>-1</td>\n",
       "      <td>Falló</td>\n",
       "    </tr>\n",
       "    <tr>\n",
       "      <th>1567</th>\n",
       "      <td>-1</td>\n",
       "      <td>1</td>\n",
       "      <td>Falló</td>\n",
       "    </tr>\n",
       "    <tr>\n",
       "      <th>17638</th>\n",
       "      <td>0</td>\n",
       "      <td>1</td>\n",
       "      <td>Falló</td>\n",
       "    </tr>\n",
       "    <tr>\n",
       "      <th>4764</th>\n",
       "      <td>0</td>\n",
       "      <td>1</td>\n",
       "      <td>Falló</td>\n",
       "    </tr>\n",
       "  </tbody>\n",
       "</table>\n",
       "</div>"
      ],
      "text/plain": [
       "       resultado_A_num  prediccion_simple resultado\n",
       "23537                1                 -1     Falló\n",
       "11477               -1                  1     Falló\n",
       "14130                1                 -1     Falló\n",
       "17903               -1                 -1    Acertó\n",
       "9000                -1                  1     Falló\n",
       "9002                -1                  1     Falló\n",
       "7931                 0                 -1     Falló\n",
       "1567                -1                  1     Falló\n",
       "17638                0                  1     Falló\n",
       "4764                 0                  1     Falló"
      ]
     },
     "execution_count": 82,
     "metadata": {},
     "output_type": "execute_result"
    }
   ],
   "source": [
    "# Generamos los resultados y obtenenmos una muestra\n",
    "resultados= pd.concat([data_prediccion['resultado_A_num'],prediction_basic], axis=1)\n",
    "def comparar_prediccion(row):\n",
    "    if row['resultado_A_num']==row['prediccion_simple']:\n",
    "        return \"Acertó\"    \n",
    "    else:\n",
    "        return \"Falló\" \n",
    "\n",
    "resultados['resultado'] = resultados.apply(comparar_prediccion, axis=1).values\n",
    "resultados.sample(10)"
   ]
  },
  {
   "cell_type": "code",
   "execution_count": 83,
   "id": "79c63eb3",
   "metadata": {
    "scrolled": false
   },
   "outputs": [
    {
     "data": {
      "image/png": "[encoded data removed]",
      "text/plain": [
       "<Figure size 800x800 with 1 Axes>"
      ]
     },
     "metadata": {},
     "output_type": "display_data"
    }
   ],
   "source": [
    "# Generamos una gráfica de pastel para ver los aciertos y fallos de la predicción simple\n",
    "value_counts=resultados['resultado'].value_counts()\n",
    "plt.figure(figsize=(8, 8))\n",
    "plt.pie(value_counts,labels=value_counts.index, autopct='%1.1f%%', startangle=140,textprops={'fontsize': 16})\n",
    "plt.axis('equal')  # Esto asegura que el gráfico sea circular\n",
    "plt.title('Aciertos vs Fallos (Predicción Simple)', fontsize=20)\n",
    "plt.gca().add_artist(plt.Circle((0, 0), 0.70, color='white'))\n",
    "plt.show()"
   ]
  },
  {
   "cell_type": "markdown",
   "id": "a63e684d",
   "metadata": {},
   "source": [
    "### 5.3. <a id='toc5_3_'></a>[Definimos el set de entrenamiento y de prueba](#toc0_)"
   ]
  },
  {
   "cell_type": "markdown",
   "id": "cb12e6f2",
   "metadata": {},
   "source": [
    "Para entrenar nuestro modelo, separaremos los 23921 datos en dos. Un dataset con el 80% de los datos, el cual utilizaremos ara enseñarle a nuestro modelo a predecir (entrenamiento), mientras que el 20% restante será utilizado para testear el desempeño de nuestro modelo. Se hace esta manera para asegurarnos que nuestro modelo este analizando información que nunca antes ha visto. Finalmente, para evaluar el desempeño de nuestro modelo, compararemos las predicciones del modelo con los resultados reales y contabilizaremos el porcentaje de aciertos."
   ]
  },
  {
   "cell_type": "code",
   "execution_count": 84,
   "id": "830f1d9b",
   "metadata": {},
   "outputs": [],
   "source": [
    "#Aplicamos la codificacion One-shoo para un mejor manejo de los datos\n",
    "data_ohe=pd.get_dummies(data_prediccion, drop_first=True)"
   ]
  },
  {
   "cell_type": "code",
   "execution_count": 85,
   "id": "54cbc149",
   "metadata": {},
   "outputs": [],
   "source": [
    "#Apartamos un 20% de los datos para la prueba de desempeño\n",
    "train, test = train_test_split(data_ohe, test_size=0.2)\n",
    "train = train.dropna()\n",
    "\n",
    "#Objetivo y caracteristicas (entrenamiento)\n",
    "features_train=train.drop('resultado_A_num', axis=1)\n",
    "target_train=train['resultado_A_num']\n",
    "\n",
    "#Objetivo y caracteristicas (validación)\n",
    "features_valid=test.drop('resultado_A_num', axis=1)\n",
    "target_valid=test['resultado_A_num']"
   ]
  },
  {
   "cell_type": "markdown",
   "id": "0c3e3e8b",
   "metadata": {},
   "source": [
    "### 5.4. <a id='toc5_4_'></a>[Entrenamos y evaluamos nuestro modelo de Regresión Logística Multinomial](#toc0_)"
   ]
  },
  {
   "cell_type": "code",
   "execution_count": 86,
   "id": "c0fbc08e",
   "metadata": {},
   "outputs": [],
   "source": [
    "#Escalamos las caracteristicas de entrenamiento y prueba\n",
    "scaler = StandardScaler()\n",
    "features_scaled_train = scaler.fit_transform(features_train)\n",
    "features_scaled_valid = scaler.transform(features_valid)"
   ]
  },
  {
   "cell_type": "code",
   "execution_count": 87,
   "id": "0d03a44e",
   "metadata": {},
   "outputs": [
    {
     "data": {
      "text/html": [
       "<style>#sk-container-id-3 {color: black;}#sk-container-id-3 pre{padding: 0;}#sk-container-id-3 div.sk-toggleable {background-color: white;}#sk-container-id-3 label.sk-toggleable__label {cursor: pointer;display: block;width: 100%;margin-bottom: 0;padding: 0.3em;box-sizing: border-box;text-align: center;}#sk-container-id-3 label.sk-toggleable__label-arrow:before {content: \"▸\";float: left;margin-right: 0.25em;color: #696969;}#sk-container-id-3 label.sk-toggleable__label-arrow:hover:before {color: black;}#sk-container-id-3 div.sk-estimator:hover label.sk-toggleable__label-arrow:before {color: black;}#sk-container-id-3 div.sk-toggleable__content {max-height: 0;max-width: 0;overflow: hidden;text-align: left;background-color: #f0f8ff;}#sk-container-id-3 div.sk-toggleable__content pre {margin: 0.2em;color: black;border-radius: 0.25em;background-color: #f0f8ff;}#sk-container-id-3 input.sk-toggleable__control:checked~div.sk-toggleable__content {max-height: 200px;max-width: 100%;overflow: auto;}#sk-container-id-3 input.sk-toggleable__control:checked~label.sk-toggleable__label-arrow:before {content: \"▾\";}#sk-container-id-3 div.sk-estimator input.sk-toggleable__control:checked~label.sk-toggleable__label {background-color: #d4ebff;}#sk-container-id-3 div.sk-label input.sk-toggleable__control:checked~label.sk-toggleable__label {background-color: #d4ebff;}#sk-container-id-3 input.sk-hidden--visually {border: 0;clip: rect(1px 1px 1px 1px);clip: rect(1px, 1px, 1px, 1px);height: 1px;margin: -1px;overflow: hidden;padding: 0;position: absolute;width: 1px;}#sk-container-id-3 div.sk-estimator {font-family: monospace;background-color: #f0f8ff;border: 1px dotted black;border-radius: 0.25em;box-sizing: border-box;margin-bottom: 0.5em;}#sk-container-id-3 div.sk-estimator:hover {background-color: #d4ebff;}#sk-container-id-3 div.sk-parallel-item::after {content: \"\";width: 100%;border-bottom: 1px solid gray;flex-grow: 1;}#sk-container-id-3 div.sk-label:hover label.sk-toggleable__label {background-color: #d4ebff;}#sk-container-id-3 div.sk-serial::before {content: \"\";position: absolute;border-left: 1px solid gray;box-sizing: border-box;top: 0;bottom: 0;left: 50%;z-index: 0;}#sk-container-id-3 div.sk-serial {display: flex;flex-direction: column;align-items: center;background-color: white;padding-right: 0.2em;padding-left: 0.2em;position: relative;}#sk-container-id-3 div.sk-item {position: relative;z-index: 1;}#sk-container-id-3 div.sk-parallel {display: flex;align-items: stretch;justify-content: center;background-color: white;position: relative;}#sk-container-id-3 div.sk-item::before, #sk-container-id-3 div.sk-parallel-item::before {content: \"\";position: absolute;border-left: 1px solid gray;box-sizing: border-box;top: 0;bottom: 0;left: 50%;z-index: -1;}#sk-container-id-3 div.sk-parallel-item {display: flex;flex-direction: column;z-index: 1;position: relative;background-color: white;}#sk-container-id-3 div.sk-parallel-item:first-child::after {align-self: flex-end;width: 50%;}#sk-container-id-3 div.sk-parallel-item:last-child::after {align-self: flex-start;width: 50%;}#sk-container-id-3 div.sk-parallel-item:only-child::after {width: 0;}#sk-container-id-3 div.sk-dashed-wrapped {border: 1px dashed gray;margin: 0 0.4em 0.5em 0.4em;box-sizing: border-box;padding-bottom: 0.4em;background-color: white;}#sk-container-id-3 div.sk-label label {font-family: monospace;font-weight: bold;display: inline-block;line-height: 1.2em;}#sk-container-id-3 div.sk-label-container {text-align: center;}#sk-container-id-3 div.sk-container {/* jupyter's `normalize.less` sets `[hidden] { display: none; }` but bootstrap.min.css set `[hidden] { display: none !important; }` so we also need the `!important` here to be able to override the default hidden behavior on the sphinx rendered scikit-learn.org. See: https://github.com/scikit-learn/scikit-learn/issues/21755 */display: inline-block !important;position: relative;}#sk-container-id-3 div.sk-text-repr-fallback {display: none;}</style><div id=\"sk-container-id-3\" class=\"sk-top-container\"><div class=\"sk-text-repr-fallback\"><pre>LogisticRegression(multi_class=&#x27;multinomial&#x27;)</pre><b>In a Jupyter environment, please rerun this cell to show the HTML representation or trust the notebook. <br />On GitHub, the HTML representation is unable to render, please try loading this page with nbviewer.org.</b></div><div class=\"sk-container\" hidden><div class=\"sk-item\"><div class=\"sk-estimator sk-toggleable\"><input class=\"sk-toggleable__control sk-hidden--visually\" id=\"sk-estimator-id-3\" type=\"checkbox\" checked><label for=\"sk-estimator-id-3\" class=\"sk-toggleable__label sk-toggleable__label-arrow\">LogisticRegression</label><div class=\"sk-toggleable__content\"><pre>LogisticRegression(multi_class=&#x27;multinomial&#x27;)</pre></div></div></div></div></div>"
      ],
      "text/plain": [
       "LogisticRegression(multi_class='multinomial')"
      ]
     },
     "execution_count": 87,
     "metadata": {},
     "output_type": "execute_result"
    }
   ],
   "source": [
    "#Definimos nuestro modelo (Regresion Logistica)\n",
    "model_lr = LogisticRegression(multi_class='multinomial', solver='lbfgs')\n",
    "#Entrenamos\n",
    "model_lr.fit(features_scaled_train,target_train)"
   ]
  },
  {
   "cell_type": "code",
   "execution_count": 88,
   "id": "60135f83",
   "metadata": {},
   "outputs": [
    {
     "data": {
      "text/html": [
       "<div>\n",
       "<style scoped>\n",
       "    .dataframe tbody tr th:only-of-type {\n",
       "        vertical-align: middle;\n",
       "    }\n",
       "\n",
       "    .dataframe tbody tr th {\n",
       "        vertical-align: top;\n",
       "    }\n",
       "\n",
       "    .dataframe thead th {\n",
       "        text-align: right;\n",
       "    }\n",
       "</style>\n",
       "<table border=\"1\" class=\"dataframe\">\n",
       "  <thead>\n",
       "    <tr style=\"text-align: right;\">\n",
       "      <th></th>\n",
       "      <th>resultado_A_num</th>\n",
       "      <th>prediccion_lr</th>\n",
       "      <th>resultado</th>\n",
       "    </tr>\n",
       "  </thead>\n",
       "  <tbody>\n",
       "    <tr>\n",
       "      <th>13040</th>\n",
       "      <td>-1</td>\n",
       "      <td>-1</td>\n",
       "      <td>Acertó</td>\n",
       "    </tr>\n",
       "    <tr>\n",
       "      <th>10366</th>\n",
       "      <td>-1</td>\n",
       "      <td>-1</td>\n",
       "      <td>Acertó</td>\n",
       "    </tr>\n",
       "    <tr>\n",
       "      <th>5178</th>\n",
       "      <td>-1</td>\n",
       "      <td>0</td>\n",
       "      <td>Falló</td>\n",
       "    </tr>\n",
       "    <tr>\n",
       "      <th>20401</th>\n",
       "      <td>1</td>\n",
       "      <td>1</td>\n",
       "      <td>Acertó</td>\n",
       "    </tr>\n",
       "    <tr>\n",
       "      <th>10217</th>\n",
       "      <td>-1</td>\n",
       "      <td>-1</td>\n",
       "      <td>Acertó</td>\n",
       "    </tr>\n",
       "    <tr>\n",
       "      <th>20084</th>\n",
       "      <td>0</td>\n",
       "      <td>0</td>\n",
       "      <td>Acertó</td>\n",
       "    </tr>\n",
       "    <tr>\n",
       "      <th>11507</th>\n",
       "      <td>-1</td>\n",
       "      <td>-1</td>\n",
       "      <td>Acertó</td>\n",
       "    </tr>\n",
       "    <tr>\n",
       "      <th>22365</th>\n",
       "      <td>-1</td>\n",
       "      <td>-1</td>\n",
       "      <td>Acertó</td>\n",
       "    </tr>\n",
       "    <tr>\n",
       "      <th>17968</th>\n",
       "      <td>-1</td>\n",
       "      <td>-1</td>\n",
       "      <td>Acertó</td>\n",
       "    </tr>\n",
       "    <tr>\n",
       "      <th>17235</th>\n",
       "      <td>-1</td>\n",
       "      <td>1</td>\n",
       "      <td>Falló</td>\n",
       "    </tr>\n",
       "  </tbody>\n",
       "</table>\n",
       "</div>"
      ],
      "text/plain": [
       "       resultado_A_num  prediccion_lr resultado\n",
       "13040               -1             -1    Acertó\n",
       "10366               -1             -1    Acertó\n",
       "5178                -1              0     Falló\n",
       "20401                1              1    Acertó\n",
       "10217               -1             -1    Acertó\n",
       "20084                0              0    Acertó\n",
       "11507               -1             -1    Acertó\n",
       "22365               -1             -1    Acertó\n",
       "17968               -1             -1    Acertó\n",
       "17235               -1              1     Falló"
      ]
     },
     "execution_count": 88,
     "metadata": {},
     "output_type": "execute_result"
    }
   ],
   "source": [
    "#Predecimos con la data de prueba\n",
    "prediction_lr=model_lr.predict(features_scaled_valid)\n",
    "prediction_lr = pd.Series(prediction_lr, index=features_valid.index,name='prediccion_lr')\n",
    "\n",
    "# Generamos los resultados y obtenenmos una muestra\n",
    "resultados= pd.concat([target_valid,prediction_lr], axis=1)\n",
    "\n",
    "def comparar_prediccion(row):\n",
    "    if row['resultado_A_num']==row['prediccion_lr']:\n",
    "        return \"Acertó\"    \n",
    "    else:\n",
    "        return \"Falló\" \n",
    "\n",
    "resultados['resultado'] = resultados.apply(comparar_prediccion, axis=1).values\n",
    "resultados.sample(10)"
   ]
  },
  {
   "cell_type": "code",
   "execution_count": 89,
   "id": "4851db0d",
   "metadata": {},
   "outputs": [
    {
     "data": {
      "image/png": "[encoded data removed]",
      "text/plain": [
       "<Figure size 800x800 with 1 Axes>"
      ]
     },
     "metadata": {},
     "output_type": "display_data"
    }
   ],
   "source": [
    "# Generamos una gráfica de pastel para ver los aciertos y fallos de la predicción simple\n",
    "value_counts=resultados['resultado'].value_counts()\n",
    "plt.figure(figsize=(8, 8))\n",
    "plt.pie(value_counts,labels=value_counts.index, autopct='%1.1f%%', startangle=140,textprops={'fontsize': 16})\n",
    "plt.axis('equal')  # Esto asegura que el gráfico sea circular\n",
    "plt.title('Aciertos vs Fallos (Regresión Logística Multinomial)', fontsize=20)\n",
    "plt.gca().add_artist(plt.Circle((0, 0), 0.70, color='white'))\n",
    "plt.show()"
   ]
  },
  {
   "cell_type": "markdown",
   "id": "55d31515",
   "metadata": {},
   "source": [
    "Si bien, un 55.3% de aciertos no puede parecer mucho, recordemos que las variables a predecir son 3 (Gana, Pierde, Empata) y que la probabilidades de acertar al azar son de un 33%. Además, el desempeño de nuestro modelo está muy por sobre el modelo simple basado en el ranking FIFA (21.8% de aciertos)."
   ]
  },
  {
   "cell_type": "code",
   "execution_count": 90,
   "id": "8739787e",
   "metadata": {},
   "outputs": [
    {
     "name": "stdout",
     "output_type": "stream",
     "text": [
      "              precision    recall  f1-score   support\n",
      "\n",
      "          -1       0.54      0.53      0.54      1393\n",
      "           0       0.30      0.15      0.20      1084\n",
      "           1       0.63      0.78      0.70      2308\n",
      "\n",
      "    accuracy                           0.57      4785\n",
      "   macro avg       0.49      0.49      0.48      4785\n",
      "weighted avg       0.53      0.57      0.54      4785\n",
      "\n"
     ]
    }
   ],
   "source": [
    "# Despliegue de métricas principales\n",
    "print(classification_report(target_valid,prediction_lr))"
   ]
  },
  {
   "cell_type": "markdown",
   "id": "b422b4b3",
   "metadata": {},
   "source": [
    "Finalmente, analizando el desempeño de nuestro modelo en detalle, obtenemos los siguiente resultados:\n",
    "\n",
    "- El modelo predice con un 63% de precisión las victorias del equipo A\n",
    "- El modelo predice con un 25% de precisión los empates\n",
    "- El modelo predice con un 57% (100-63%) de precisión clas victorias del equipo B\n",
    "\n",
    "Previamente habíamos encontrado que, basándonos en la información histórica, los equipos cuando juegan de local tienen una mayor probabilidad de victoria que al jugar de visitante. Por lo tanto, cabe destacar que este resultado es consistente con el desempeño de nuestro modelo, el cual asigna una mayor probabilidad de victoria al equipo A (local) que al equipo B (visitante). Nuevamente, el factor de localía parece tener un peso importante en el resultado de los partidos."
   ]
  },
  {
   "cell_type": "markdown",
   "id": "575a223e",
   "metadata": {},
   "source": [
    "## 6. <a id='toc6_'></a>[Conclusiones](#toc0_)"
   ]
  },
  {
   "cell_type": "markdown",
   "id": "8e4c3465",
   "metadata": {},
   "source": [
    "- Se llevó a cabo un preprocesamiento de los datos, en el se transformaron tipos de datos y se renombraron columnas para facilitar el análisis de los datos. También se eliminaron las columnas que no eran relevantes para el análisis y se agregaron nuevas que se consideraron vitales para el análisis.\n",
    "- En un análisis preliminar, se encontró que los puntos FIFA exhiben una distribución sesgada a la derecha, sugiriendo equipos con puntuaciones excepcionalmente altas, y que los promedios de goles muestran equilibrio competitivo, con la mayoría de los partidos teniendo pocos goles. Estos insights brindan una visión integral del panorama competitivo de los equipos nacionales.\n",
    "-  Los equipos que juegan en casa han registrado históricamente más victorias en comparación con empates y derrotas. En cuanto a su ranking Fifa, es más frecuente que se enfrenten equipos de ranking similar, por lo que los partidos generalmente están equilibrados.\n",
    "- Se encontró que  la localía conlleva una ventaja significativa en los partidos, aumentando las chances de victoria cuando el equipo está equilibrado o adelante, o incrementando la probabilidad de empate cuando está en desventaja. Asimismo, se observa que en general, jugar en casa aumenta las posibilidades de ganar en comparación con jugar como visitante, sin importar su diferencia en el ranking Fifa. \n",
    "- Finalmente, se desarrollo un modelo de regresión logística multinomial para predecir el resultado de un partido. El modelo logró una precisión superior al 50% en la predicción de resultados, superando al modelo de predicción simple basado únicamente en el ranking FIFA y superando la precisión cercana al 33% que se obtendría al predecir el resultado de un partido al azar. Adicionalmente, el modelo también asigna una mayor probabilidad de victoria al equipo que juega de local, lo que confirma la ventaja de jugar en casa.\n"
   ]
  },
  {
   "cell_type": "markdown",
   "id": "238a2239",
   "metadata": {},
   "source": [
    "## 7. <a id='toc7_'></a>[Próximos pasos](#toc0_)"
   ]
  },
  {
   "cell_type": "markdown",
   "id": "1b1aa6c7",
   "metadata": {},
   "source": [
    "Con el objetivo de mejorar o complementar los resultados obtenidos, se sugieren a continuación una serie de pasos a seguir: \n",
    "- Considerar en el análisis el tipo de torneo al que pertenece cada partido.\n",
    "- Investigar si hay factores externos que puedan influir en los resultados como la ubicación geográfica.\n",
    "- Considera la construcción de modelos predictivos alternativos que puedan mejorar el procentaje de aciertos."
   ]
  },
  {
   "cell_type": "markdown",
   "id": "9227e857",
   "metadata": {},
   "source": [
    "## 8. <a id='toc8_'></a>[Apéndices](#toc0_)"
   ]
  },
  {
   "cell_type": "markdown",
   "id": "3990230a",
   "metadata": {},
   "source": [
    "### 8.1. <a id='toc8_1_'></a>[Apéndice A: Definiciones](#toc0_)"
   ]
  },
  {
   "cell_type": "markdown",
   "id": "8b74d749",
   "metadata": {},
   "source": [
    "**FIFA Rank (Ranking FIFA):**\n",
    "El \"FIFA rank\" o ranking FIFA es una clasificación numérica de los equipos nacionales de fútbol de todo el mundo. Se basa en los puntos acumulados por los equipos en el sistema de clasificación de la FIFA. Los equipos se ordenan en función de la cantidad de puntos que tienen, de mayor a menor. El equipo con más puntos tiene el rango más alto. El ranking FIFA se actualiza mensualmente y se utiliza para determinar las cabezas de serie en los sorteos de torneos internacionales y para evaluar la posición relativa de los equipos en el escenario mundial.\n",
    "\n",
    "**FIFA Points (Puntos FIFA):**\n",
    "Los \"FIFA points\" se refieren a la cantidad acumulada de puntos que un equipo ha ganado en el sistema de clasificación de la FIFA. Estos puntos se otorgan en función del rendimiento del equipo en partidos internacionales. Los factores que influyen en la cantidad de puntos que un equipo gana incluyen el resultado del partido, la importancia del partido, el nivel del equipo contrario y el tipo de competición. Estos puntos se suman a lo largo del tiempo a medida que el equipo juega más partidos y se utilizan para determinar su posición en el ranking de la FIFA."
   ]
  }
 ],
 "metadata": {
  "kernelspec": {
   "display_name": "Python 3 (ipykernel)",
   "language": "python",
   "name": "python3"
  },
  "language_info": {
   "codemirror_mode": {
    "name": "ipython",
    "version": 3
   },
   "file_extension": ".py",
   "mimetype": "text/x-python",
   "name": "python",
   "nbconvert_exporter": "python",
   "pygments_lexer": "ipython3",
   "version": "3.11.3"
  },
  "toc": {
   "base_numbering": 1,
   "nav_menu": {},
   "number_sections": true,
   "sideBar": true,
   "skip_h1_title": true,
   "title_cell": "Table of Contents",
   "title_sidebar": "Contents",
   "toc_cell": false,
   "toc_position": {},
   "toc_section_display": true,
   "toc_window_display": false
  }
 },
 "nbformat": 4,
 "nbformat_minor": 5
}
